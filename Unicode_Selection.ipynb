{
 "cells": [
  {
   "cell_type": "code",
   "execution_count": 3,
   "metadata": {},
   "outputs": [],
   "source": [
    "def get_unicodes(unicodes_amount = 0xff, unicodes_start_range = 0x2200 ):\n",
    "    rd_ls = []\n",
    "    for i in range(unicodes_amount):\n",
    "        rd_ls += [(chr(unicodes_start_range+i))]\n",
    "    print(rd_ls)"
   ]
  },
  {
   "cell_type": "code",
   "execution_count": 4,
   "metadata": {},
   "outputs": [
    {
     "name": "stdout",
     "output_type": "stream",
     "text": [
      "['∀', '∁', '∂', '∃', '∄', '∅', '∆', '∇', '∈', '∉', '∊', '∋', '∌', '∍', '∎', '∏', '∐', '∑', '−', '∓', '∔', '∕', '∖', '∗', '∘', '∙', '√', '∛', '∜', '∝', '∞', '∟', '∠', '∡', '∢', '∣', '∤', '∥', '∦', '∧', '∨', '∩', '∪', '∫', '∬', '∭', '∮', '∯', '∰', '∱', '∲', '∳', '∴', '∵', '∶', '∷', '∸', '∹', '∺', '∻', '∼', '∽', '∾', '∿', '≀', '≁', '≂', '≃', '≄', '≅', '≆', '≇', '≈', '≉', '≊', '≋', '≌', '≍', '≎', '≏', '≐', '≑', '≒', '≓', '≔', '≕', '≖', '≗', '≘', '≙', '≚', '≛', '≜', '≝', '≞', '≟', '≠', '≡', '≢', '≣', '≤', '≥', '≦', '≧', '≨', '≩', '≪', '≫', '≬', '≭', '≮', '≯', '≰', '≱', '≲', '≳', '≴', '≵', '≶', '≷', '≸', '≹', '≺', '≻', '≼', '≽', '≾', '≿', '⊀', '⊁', '⊂', '⊃', '⊄', '⊅', '⊆', '⊇', '⊈', '⊉', '⊊', '⊋', '⊌', '⊍', '⊎', '⊏', '⊐', '⊑', '⊒', '⊓', '⊔', '⊕', '⊖', '⊗', '⊘', '⊙', '⊚', '⊛', '⊜', '⊝', '⊞', '⊟', '⊠', '⊡', '⊢', '⊣', '⊤', '⊥', '⊦', '⊧', '⊨', '⊩', '⊪', '⊫', '⊬', '⊭', '⊮', '⊯', '⊰', '⊱', '⊲', '⊳', '⊴', '⊵', '⊶', '⊷', '⊸', '⊹', '⊺', '⊻', '⊼', '⊽', '⊾', '⊿', '⋀', '⋁', '⋂', '⋃', '⋄', '⋅', '⋆', '⋇', '⋈', '⋉', '⋊', '⋋', '⋌', '⋍', '⋎', '⋏', '⋐', '⋑', '⋒', '⋓', '⋔', '⋕', '⋖', '⋗', '⋘', '⋙', '⋚', '⋛', '⋜', '⋝', '⋞', '⋟', '⋠', '⋡', '⋢', '⋣', '⋤', '⋥', '⋦', '⋧', '⋨', '⋩', '⋪', '⋫', '⋬', '⋭', '⋮', '⋯', '⋰', '⋱', '⋲', '⋳', '⋴', '⋵', '⋶', '⋷', '⋸', '⋹', '⋺', '⋻', '⋼', '⋽', '⋾']\n"
     ]
    }
   ],
   "source": [
    "get_unicodes()"
   ]
  },
  {
   "cell_type": "code",
   "execution_count": 2,
   "metadata": {},
   "outputs": [
    {
     "data": {
      "text/plain": [
       "'0xff'"
      ]
     },
     "execution_count": 2,
     "metadata": {},
     "output_type": "execute_result"
    }
   ],
   "source": [
    "hex(0x22ff-0x2200) '√', '∛', '∜','∑' , '∫', '∬', '∭', '∮', '∯', '∰' '∿'"
   ]
  },
  {
   "cell_type": "code",
   "execution_count": 5,
   "metadata": {},
   "outputs": [
    {
     "data": {
      "text/plain": [
       "'0x2f'"
      ]
     },
     "execution_count": 5,
     "metadata": {},
     "output_type": "execute_result"
    }
   ],
   "source": [
    "hex(0x209f-0x2070)"
   ]
  },
  {
   "cell_type": "code",
   "execution_count": 9,
   "metadata": {},
   "outputs": [
    {
     "data": {
      "text/plain": [
       "8507"
      ]
     },
     "execution_count": 9,
     "metadata": {},
     "output_type": "execute_result"
    }
   ],
   "source": [
    "ord('℻')"
   ]
  },
  {
   "cell_type": "code",
   "execution_count": 8,
   "metadata": {},
   "outputs": [
    {
     "name": "stdout",
     "output_type": "stream",
     "text": [
      "['\\u2060', '\\u2061', '\\u2062', '\\u2063', '\\u2064', '\\u2065', '\\u2066', '\\u2067', '\\u2068', '\\u2069', '\\u206a', '\\u206b', '\\u206c', '\\u206d', '\\u206e', '\\u206f', '⁰', 'ⁱ', '\\u2072', '\\u2073', '⁴', '⁵', '⁶', '⁷', '⁸', '⁹', '⁺', '⁻', '⁼', '⁽', '⁾', 'ⁿ', '₀', '₁', '₂', '₃', '₄', '₅', '₆', '₇', '₈', '₉', '₊', '₋', '₌', '₍', '₎', '\\u208f', 'ₐ', 'ₑ', 'ₒ', 'ₓ', 'ₔ', 'ₕ', 'ₖ', 'ₗ', 'ₘ', 'ₙ', 'ₚ', 'ₛ', 'ₜ', '\\u209d', '\\u209e', '\\u209f', '₠', '₡', '₢', '₣', '₤', '₥', '₦', '₧', '₨', '₩', '₪', '₫', '€', '₭', '₮', '₯', '₰', '₱', '₲', '₳', '₴', '₵', '₶', '₷', '₸', '₹', '₺', '₻', '₼', '₽', '₾', '₿', '\\u20c0', '\\u20c1', '\\u20c2', '\\u20c3', '\\u20c4', '\\u20c5', '\\u20c6', '\\u20c7', '\\u20c8', '\\u20c9', '\\u20ca', '\\u20cb', '\\u20cc', '\\u20cd', '\\u20ce', '\\u20cf', '⃐', '⃑', '⃒', '⃓', '⃔', '⃕', '⃖', '⃗', '⃘', '⃙', '⃚', '⃛', '⃜', '⃝', '⃞', '⃟', '⃠', '⃡', '⃢', '⃣', '⃤', '⃥', '⃦', '⃧', '⃨', '⃩', '⃪', '⃫', '⃬', '⃭', '⃮', '⃯', '⃰', '\\u20f1', '\\u20f2', '\\u20f3', '\\u20f4', '\\u20f5', '\\u20f6', '\\u20f7', '\\u20f8', '\\u20f9', '\\u20fa', '\\u20fb', '\\u20fc', '\\u20fd', '\\u20fe', '\\u20ff', '℀', '℁', 'ℂ', '℃', '℄', '℅', '℆', 'ℇ', '℈', '℉', 'ℊ', 'ℋ', 'ℌ', 'ℍ', 'ℎ', 'ℏ', 'ℐ', 'ℑ', 'ℒ', 'ℓ', '℔', 'ℕ', '№', '℗', '℘', 'ℙ', 'ℚ', 'ℛ', 'ℜ', 'ℝ', '℞', '℟', '℠', '℡', '™', '℣', 'ℤ', '℥', 'Ω', '℧', 'ℨ', '℩', 'K', 'Å', 'ℬ', 'ℭ', '℮', 'ℯ', 'ℰ', 'ℱ', 'Ⅎ', 'ℳ', 'ℴ', 'ℵ', 'ℶ', 'ℷ', 'ℸ', 'ℹ', '℺', '℻', 'ℼ', 'ℽ', 'ℾ', 'ℿ', '⅀', '⅁', '⅂', '⅃', '⅄', 'ⅅ', 'ⅆ', 'ⅇ', 'ⅈ', 'ⅉ', '⅊', '⅋', '⅌', '⅍', 'ⅎ', '⅏', '⅐', '⅑', '⅒', '⅓', '⅔', '⅕', '⅖', '⅗', '⅘', '⅙', '⅚', '⅛', '⅜', '⅝', '⅞']\n"
     ]
    }
   ],
   "source": [
    "get_unicodes(0xFf, 0x2060)"
   ]
  },
  {
   "cell_type": "code",
   "execution_count": 1,
   "metadata": {},
   "outputs": [
    {
     "name": "stdout",
     "output_type": "stream",
     "text": [
      "74794 74289 74143 73794 74265 73777 73776 73777\n"
     ]
    }
   ],
   "source": [
    "print(ord('𒐪'),ord('𒈱'),ord('𒆟'),ord('𒁂'),ord('𒈙'),ord('𒀱'),ord('𒀰'),ord('𒀱'))\n",
    "\n",
    "print(ord('𑁤'),ord('℈'),ord('⅂'),ord('⌬'),ord('𑀆'),ord('🧬'),ord('🧙'),ord('🤖'))"
   ]
  },
  {
   "cell_type": "code",
   "execution_count": 23,
   "metadata": {},
   "outputs": [
    {
     "name": "stdout",
     "output_type": "stream",
     "text": [
      "68000 128427 128429 128760 129514 129516 129497 129302\n"
     ]
    }
   ],
   "source": [
    "print(ord('𐦠'),ord('🖫'),ord('🖭'),ord('🛸'),ord('🧪'),ord('🧬'),ord('🧙'),ord('🤖'))"
   ]
  },
  {
   "cell_type": "code",
   "execution_count": null,
   "metadata": {},
   "outputs": [],
   "source": [
    "print(ord('𐦠'),ord('🖫'),ord('🖭'),ord('🛸'),ord('🧪'),ord('🧬'),ord('🧙'),ord('🤖'))"
   ]
  },
  {
   "cell_type": "code",
   "execution_count": 1,
   "metadata": {},
   "outputs": [],
   "source": [
    "var_str0 = \"𒋦𒁷🀄🔥𢘝你ꖜ⛬ 𑀕 ᙖ 𝓒 𐦳 ᙓ ﾓ Ꞙ ⅁ Ⴚ 𑀆 𑁤 𑀩\"\n",
    "\n",
    "var_str1 = \"⛪⛏⛎╲╱♻❤➔⟺➗⧉⦚⧋⬛⬜⭐⮀⮂⮍⮎⮏⮌ⲐⲪⴺ丄〄〓㐃ꕆꔞꔚ Ⅎꓵꓤ 𑁠ꓒꔖꗂꕥꖿꔚꓩꓶꕤꚘꚙꝚꜾꞘꧮ𑄦𐩕𐐥\"\n",
    "\n",
    "var_str2 = \"෴ൠᗄᗏᗌᖷᏫᗜᗝᗣᗧᙛᙕᙖᛨᱪᲶ⁔𐩕‿⁀⁐⁉☯☘⌬∫∬∭⨌∮∯∰⅁⅂⅃ꓤ‱※⌨⏴⏵⏶⏷╳ ▛▜▙▟▚▞▓▒░☢☣☠☮◯⚠♬⛬♩\"\n",
    "\n",
    "var_str3 = \"𐦠 𒈔 𐦳 𒐪𒈱𒐨𒐸𒋲𒈙𒈝𒈰𒀖𒅄𒆟𒇫𒁈𒁂𒆙𒋞𒍟𒀭𒀱𒀰𒀽𒂒\"\n",
    "\n",
    "var_str4 = \"𒋦𒐸𐦠𐒴𑀕𐡔Ꝛ𒈱෴𐩕ꖜ⌬⁔∫⁀ꕥ‿∫⁐𒀖☢☣☠♬♩♩♬♩♬♬ꗂ𒁂Ꝛ𐋊ꞘꓩꓶꓶⲶꓩꓶꓶᏫ𐦠𐏕▓▒░ ⧋‱⧉⦚⚠ൠ◯☮Ꚙꚙꧮ\"\n",
    "\n",
    "var_str5 = \"𒁂𐦠𑀕𐡔Ꝛ෴\"\n",
    "\n",
    "var_str6 = \"𒈔 𐦳 𒐪𒐨𒐸𒐸𒋲𒈙𒈝𒈰𒅄𒆟𒇫𒁈𒁂𒆙𒋞𒍟𒀭𒀱𒀰𒀽𒂒\"\n",
    "\n",
    "var_str7 = \"💬📚📃🌍🎲🐍📆🔌🔋🔧📧📨📈📉💧💼🛹📂📋🎁🪓🪐🩸🧮🧊🧩🧱🚀📝📜📌🍳🎓📐🔍🔎🩺🩹☔☣☠⚡⏰⏳⌚🦠🧺🦴🧰🧲🦀\""
   ]
  },
  {
   "cell_type": "code",
   "execution_count": null,
   "metadata": {},
   "outputs": [],
   "source": [
    "str_rd = '⌬🧪💊💾🔬🧬📊💿🔥📀💽💻💉💬📚📃🌍🎲🐍📆🔌🔋🔧📧📨📈📉💧💼🛹📂📋🎁🪓🪐🩸🧮🧊🧩🧱🚀📝📜📌🍳🎓📐🔍🔎🩺🩹☔☣☠⚡⏰⏳⌚🦠🧺🦴🧰🧲🦀'"
   ]
  },
  {
   "cell_type": "code",
   "execution_count": null,
   "metadata": {},
   "outputs": [],
   "source": [
    "def get_unicodes():\n",
    "    rd_ls = []\n",
    "    for i in range(1000):\n",
    "        rd_ls += [(chr(127343+i))]\n",
    "    for i in range(1000):\n",
    "        rd_ls += [(chr(128043+i))]\n",
    "    for i in range(1000):\n",
    "        rd_ls += [(chr(9500+i))]\n",
    "    print(rd_ls)\n",
    "get_unicodes() "
   ]
  },
  {
   "cell_type": "code",
   "execution_count": null,
   "metadata": {},
   "outputs": [],
   "source": [
    "def get_unicodes():\n",
    "    rd_ls = []\n",
    "    for i in range(3000):\n",
    "        rd_ls += [(chr(124043+i))]\n",
    "    for i in range(3000):\n",
    "        rd_ls += [(chr(127043+i))]\n",
    "    for i in range(3000):\n",
    "        rd_ls += [(chr(8500+i))]\n",
    "    print(rd_ls)\n",
    "get_unicodes() "
   ]
  }
 ],
 "metadata": {
  "kernelspec": {
   "display_name": "Python 3",
   "language": "python",
   "name": "python3"
  },
  "language_info": {
   "codemirror_mode": {
    "name": "ipython",
    "version": 3
   },
   "file_extension": ".py",
   "mimetype": "text/x-python",
   "name": "python",
   "nbconvert_exporter": "python",
   "pygments_lexer": "ipython3",
   "version": "3.8.0"
  }
 },
 "nbformat": 4,
 "nbformat_minor": 2
}
