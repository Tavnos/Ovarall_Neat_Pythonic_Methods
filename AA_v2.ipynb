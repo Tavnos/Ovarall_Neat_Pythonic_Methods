{
 "cells": [
  {
   "cell_type": "code",
   "execution_count": 4,
   "metadata": {},
   "outputs": [
    {
     "data": {
      "text/plain": [
       "751.887"
      ]
     },
     "execution_count": 4,
     "metadata": {},
     "output_type": "execute_result"
    }
   ],
   "source": [
    "c_m = Calc_Chem()\n",
    "c_m.a_mass('TKPRPGP')"
   ]
  },
  {
   "cell_type": "code",
   "execution_count": 1,
   "metadata": {},
   "outputs": [],
   "source": [
    "# avogadro = (6.022137*(10**(23)))"
   ]
  },
  {
   "cell_type": "code",
   "execution_count": 1,
   "metadata": {},
   "outputs": [],
   "source": [
    "import random as rd"
   ]
  },
  {
   "cell_type": "code",
   "execution_count": 2,
   "metadata": {},
   "outputs": [],
   "source": [
    "class Method_Data:\n",
    "    e_mass={'H': 1.008, 'He': 4.0026, 'Li': 6.941, 'Be': 9.0122, 'B': 10.81, \n",
    "            'C': 12.011, 'N': 14.007, 'O': 15.999, 'F': 18.998, 'Ne': 20.18, \n",
    "            'Na': 22.99, 'Mg': 24.31, 'Al': 26.98, 'Si': 28.09, 'P': 30.97, \n",
    "            'S': 32.07, 'Cl': 35.45, 'Ar': 39.95, 'K': 39.098, 'Ca': 40.078, \n",
    "            'Sc': 44.956, 'Ti': 47.867, 'V': 50.942, 'Cr': 51.996, 'Mn': 54.938, \n",
    "            'Fe': 55.845, 'Co': 58.933, 'Ni': 58.693, 'Cu': 63.546, 'Zn': 65.38, \n",
    "            'Ga': 69.723, 'Ge': 72.63, 'As': 74.922, 'Se': 78.971, 'Br': 79.904, \n",
    "            'Kr': 83.798, 'Rb': 85.468, 'Sr': 87.62, 'Y': 88.906, 'Zr': 91.224, \n",
    "            'Nb': 92.906, 'Mo': 95.95, 'Tc': 98, 'Ru': 101.07, 'Rh': 102.91, \n",
    "            'Pd': 106.42, 'Ag': 107.87, 'Cd': 112.41, 'In': 114.82, 'Sn': 118.71, \n",
    "            'Sb': 121.76, 'Te': 127.6, 'I': 126.9, 'Xe': 131.29, 'Cs': 132.91, \n",
    "            'Ba': 137.33, 'La': 138.91, 'Ce': 140.12, 'Pr': 140.91, 'Nd': 144.24, \n",
    "            'Pm': 145, 'Sm': 150.36, 'Eu': 151.96, 'Gd': 157.25, 'Tb': 158.93, \n",
    "            'Dy': 162.5, 'Ho': 164.93, 'Er': 167.26, 'Tm': 168.93, 'Yb': 173.05, \n",
    "            'Lu': 174.97, 'Hf': 178.49, 'Ta': 180.95, 'W': 183.84, 'Re': 186.21, \n",
    "            'Os': 190.23, 'Ir': 192.22, 'Pt': 195.08, 'Au': 196.97, 'Hg': 200.59, \n",
    "            'Tl': 204.38, 'Pb': 207.2, 'Bi': 208.98, 'Po': 209, 'At': 210, \n",
    "            'Rn': 222, 'Fr': 223, 'Ra': 226, 'Ac': 227, 'Th': 232.04, \n",
    "            'Pa': 231.04, 'U': 238.03, 'Np': 237, 'Pu': 244, 'Am': 243, 'Cm': 247, \n",
    "            'Bk': 247, 'Cf': 251, 'Es': 252, 'Fm': 257, 'Md': 258, 'No': 259, \n",
    "            'Lr': 266, 'Rf': 267, 'Db': 268, 'Sg': 269, 'Bh': 270, 'Hs': 277, \n",
    "            'Mt': 278, 'Ds': 281, 'Rg': 282, 'Cn': 285, 'Nh': 286, 'Fl': 289, \n",
    "            'Mc': 290, 'Lv': 293, 'Ts': 294, 'Og': 294}\n",
    "    n_tr ={'a':{'dna':'a','rna':'a'},\n",
    "           'g':{'dna':'g','rna':'g'},\n",
    "           'c':{'dna':'c','rna':'c'},\n",
    "           't':{'dna':'t','rna':'u'},\n",
    "           'u':{'dna':'t','rna':'u'}}\n",
    "    a_stat={'M':{'id':'Methionine','abv':'Met','atp':(21,23),'s_c':'-CH₂CH₂SCH₃','cd':['atg'],'ef':'C 5 H 9 N 1 O 1 S 1'},\n",
    "            'L':{'id':'Leucine','abv':'Leu','atp':(-9,1),'s_c':'-CH₂CH(CH₃)₂','cd':('tta','ttg','ctt','ctc','cta','ctg'),'ef':'C 6 H 11 N 1 O 1'},\n",
    "            'F':{'id':'Phenylalanine','abv':'Phe','atp':(-6,2),'s_c':'-CH₂C₆H₅','cd':('ttt','ttc'),'ef':'C 9 H 9 N 1 O 1'},\n",
    "            'S':{'id':'Serine','abv':'Ser','atp':(-2,2),'s_c':'-CH₂OH','cd':('tct','tcc','tca','tcg','agc','agt'),'ef':'C 3 H 5 N 1 O 2'},\n",
    "            'C':{'id':'Cysteine','abv':'Cys','atp':(11,15),'s_c':'-CH₂SH','cd':('tgt','tgc'),'ef':'C 3 H 5 N 1 O 1 S 1'},\n",
    "            'W':{'id':'Tryptophan','abv':'Trp','atp':(-7,7),'s_c':'-CH₂C₈H₆N','cd':['tgg'],'ef':'C 11 H 10 N 2 O 1'},\n",
    "            'P':{'id':'Proline','abv':'Pro','atp':(-2,4),'s_c':'-CH₂CH₂CH₂-','cd':('ccc','cca','cct','ccg'),'ef':'C 5 H 7 N 1 O 1'},\n",
    "            'H':{'id':'Histidine','abv':'His','atp':(1,7),'s_c':'-CH₂-C₃H₃N₂','cd':('cat','cac'),'ef':'C 6 H 7 N 3 O 1'},\n",
    "            'Q':{'id':'Glutamine','abv':'Gln','atp':(-6,0),'s_c':'-CH₂CH₂CONH₂','cd':('caa','cag'),'ef':'C 5 H 8 N 2 O 2'},\n",
    "            'R':{'id':'Arginine','abv':'Arg','atp':(5,13),'s_c':'-(CH₂)₃NH-C(NH)NH₂','cd':('cgg','cgt','cgc','cga','agg','aga'),'ef':'C 6 H 12 N 4 O 1'},\n",
    "            'I':{'id':'Isoleucine','abv':'Ile','atp':(7,11),'s_c':'-CH(CH₃)CH₂CH₃','cd':('att','atc','ata'),'ef':'C 6 H 11 N 1 O 1'},\n",
    "            'V':{'id':'Valine','abv':'Val','atp':(-2,2),'s_c':'-CH(CH₃)₂','cd':('gtg','gtt','gtc','gta'),'ef':'C 5 H 9 N 1 O 1'},\n",
    "            'Y':{'id':'Tyrosine','abv':'Tyr','atp':(-8,2),'s_c':'-CH₂-C₆H₄OH','cd':('tat','tac'),'ef':'C 9 H 9 N 1 O 2'},\n",
    "            'T':{'id':'Threonine','abv':'Thr','atp':(6,8),'s_c':'-CH(OH)CH₃','cd':('aca','acc','act','acg'),'ef':'C 4 H 7 N 1 O 2'},\n",
    "            'A':{'id':'Alanine','abv':'Ala','atp':(-1,1),'s_c':'-CH₃','cd':('gcg','gcc','gct','gca'),'ef':'C 3 H 5 N 1 O 1'},\n",
    "            'N':{'id':'Asparagine','abv':'Asn','atp':(3,5),'s_c':'-CH₂CONH₂','cd':('aat','aac'),'ef':'C 4 H 6 N 2 O 2'},\n",
    "            'K':{'id':'Lysine','abv':'Lys','atp':(5,9),'s_c':'-(CH₂)₄NH₂','cd':('aaa','aag'),'ef':'C 6 H 12 N 2 O 1'},\n",
    "            'E':{'id':'Glutamicacid','abv':'Glu','atp':(-7,-1),'s_c':'-CH₂CH₂COOH','cd':('gaa','gag'),'ef':'C 5 H 7 N 1 O 3'},\n",
    "            'D':{'id':'Asparticacid','abv':'Asp','atp':(0,2),'s_c':'-CH₂COOH','cd':('gat','gac'),'ef':'C 4 H 5 N 1 O 3'},\n",
    "            'G':{'id':'Glycine','abv':'Gly','atp':(-2,2),'s_c':'-(H)','cd':('ggg','gga','ggc','ggt'),'ef':'C 2 H 3 N 1 O 1'},\n",
    "            'O':{'id':'Stopcodon','abv':'Ochre','atp':(0,0),'s_c':'^','cd':['taa'],'ef':'C 0'},\n",
    "            'B':{'id':'Stopcodon','abv':'Amber','atp':(0,0),'s_c':'^','cd':['tag'],'ef':'C 0'},\n",
    "            'U':{'id':'Stopcodon','abv':'Opal','atp':(0,0),'s_c':'^','cd':['tga'],'ef':'C 0'}}"
   ]
  },
  {
   "cell_type": "code",
   "execution_count": 3,
   "metadata": {},
   "outputs": [],
   "source": [
    "class Calc_Chem(Method_Data):\n",
    "    def t_mass(self, compound):\n",
    "        self.detail_d = {}\n",
    "        self.out_ls = []\n",
    "        temp_v = compound.split()\n",
    "        for i in range(int(len(temp_v)/2)):\n",
    "            self.out_ls += [(self.e_mass[temp_v[i+i]])*float(temp_v[i+i+1])]\n",
    "            self.detail_d['total'] = sum(self.out_ls)\n",
    "            self.detail_d[temp_v[i+i]] = {'ammount':temp_v[i+i+1], 'g/m':self.e_mass[temp_v[i+i]], 'result':(self.e_mass[temp_v[i+i]])*float(temp_v[i+i+1])}\n",
    "        return (sum(self.out_ls), self.detail_d)\n",
    "    def a_mass(self, p_name):\n",
    "        mass_ls = []\n",
    "        for i in p_name:\n",
    "            if i in self.a_stat:\n",
    "                mass_ls+= [self.t_mass(self.a_stat[i]['ef'])[0]]\n",
    "        mass_ls += [self.t_mass('H 2 O 1')[0]]\n",
    "        return sum(mass_ls)\n"
   ]
  },
  {
   "cell_type": "code",
   "execution_count": 12,
   "metadata": {},
   "outputs": [],
   "source": [
    "class Translate_Data(Calc_Chem):\n",
    "    def translate_nucleotides(self, str_input):\n",
    "        self.dna_typed_ls = []\n",
    "        self.rna_typed_ls = []\n",
    "        self.amino_short_ls = []\n",
    "        self.amino_abv_ls = []\n",
    "        self.amino_aerobic_atp_ls = []\n",
    "        self.amino_anaerobic_atp_ls = []\n",
    "        self.amino_side_chain_ls = []\n",
    "        self.nuc_transcript = str_input.lower()\n",
    "        for i in self.nuc_transcript:\n",
    "            self.dna_typed_ls += self.n_tr[i]['dna']\n",
    "            self.rna_typed_ls += self.n_tr[i]['rna']\n",
    "        self.dna_direct_str = ''.join(self.dna_typed_ls)\n",
    "        self.rna_direct_str = ''.join(self.rna_typed_ls)\n",
    "        for i in range(0, len(self.dna_direct_str), 3):\n",
    "            for f in self.a_stat:\n",
    "                if self.dna_direct_str[i:i+3] in self.a_stat[f]['cd']:\n",
    "                    self.amino_short_ls += f\n",
    "                    self.amino_abv_ls += self.a_stat[f]['abv']\n",
    "                    self.amino_aerobic_atp_ls += [self.a_stat[f]['atp'][0]]\n",
    "                    self.amino_anaerobic_atp_ls += [self.a_stat[f]['atp'][1]]\n",
    "                    self.amino_side_chain_ls += self.a_stat[f]['s_c']\n",
    "        self.amino_short_str = ''.join(self.amino_short_ls)\n",
    "        self.amino_abv_str = ''.join(self.amino_abv_ls)\n",
    "        self.amino_aerobic_atp_tot = sum(self.amino_aerobic_atp_ls)\n",
    "        self.amino_anaerobic_atp_tot = sum(self.amino_anaerobic_atp_ls)\n",
    "        self.amino_side_chain_str = ''.join(self.amino_side_chain_ls)\n",
    "    def print_translation(self, str_input, info_level=1):\n",
    "        self.translate_nucleotides(str_input)\n",
    "        self.str_var_0 = self.amino_short_str\n",
    "        self.str_var_1 = 'DNA: ' + self.dna_direct_str.upper()\n",
    "        self.str_var_2 = 'RNA: ' + self.rna_direct_str.upper()\n",
    "        self.str_var_3 = 'Short: ' + self.amino_short_str\n",
    "        self.str_var_4 = 'Abbreviated: ' \n",
    "        self.str_var_5 = self.amino_abv_str\n",
    "        self.str_var_6 = 'aerobic cost: ' + str(self.amino_aerobic_atp_tot) + ' ATP'\n",
    "        self.str_var_7 = 'anaerobic cost: ' + str(self.amino_anaerobic_atp_tot) + ' ATP'\n",
    "        self.str_var_8 = 'mass: ' + \"{}\".format(self.a_mass(self.amino_short_str)) + ' Da'\n",
    "        self.str_var_9 = 'sidechain functional group:'\n",
    "        self.str_var_10 = self.amino_side_chain_str \n",
    "        if info_level==1:\n",
    "            return '{}\\n{}\\n{}\\n{}\\n{}\\n{}\\n{}\\n{}\\n{}\\n{}'.format(self.str_var_1, self.str_var_2, self.str_var_3, self.str_var_4, \n",
    "                 self.str_var_5, self.str_var_6, self.str_var_7, self.str_var_8, self.str_var_9, self.str_var_10) \n",
    "        if info_level==2:\n",
    "            return '{}\\n{}\\n{}\\n{}'.format(self.str_var_3, self.str_var_6, self.str_var_7, self.str_var_8) \n",
    "        if info_level==3:\n",
    "            return '{}'.format(self.str_var_0)"
   ]
  },
  {
   "cell_type": "code",
   "execution_count": 13,
   "metadata": {},
   "outputs": [],
   "source": [
    "class Prediction(Calc_Chem):\n",
    "    def get_specific_content(self, codon_config, desired_content):\n",
    "        self.rd_set_ls = []\n",
    "        self.index_max_ls = []\n",
    "        self.codon_pref_ls = []\n",
    "        if desired_content != 'any':\n",
    "            for i in codon_config:\n",
    "                self.rd_set_ls += [(i.count(desired_content[0])+i.count(desired_content[1]))]\n",
    "            for i in range(len(self.rd_set_ls)):\n",
    "                if self.rd_set_ls[i] == max(self.rd_set_ls):\n",
    "                    self.index_max_ls += [i]\n",
    "            for i in self.index_max_ls:\n",
    "                self.codon_pref_ls += [codon_config[i]]\n",
    "        if desired_content == 'any':\n",
    "            self.codon_pref_ls = codon_config\n",
    "        return rd.choice(self.codon_pref_ls)\n",
    "    def predict_sequence(self, sequence_typed, desired_content, info_level=1):\n",
    "        self.possible_config = []\n",
    "        self.cg_count = 0\n",
    "        self.at_count = 0\n",
    "        for i in sequence_typed:\n",
    "            self.temp_config = self.a_stat[i]['cd']\n",
    "            self.possible_config += [self.get_specific_content(self.temp_config, desired_content)]\n",
    "        self.predict_1 = \"sequence typed:\"\n",
    "        self.predict_1_1 = (''.join(sequence_typed))\n",
    "        self.predict_2 = \"desired config:\"\n",
    "        self.predict_2_1 = ''.join(self.possible_config)\n",
    "        self.chr_split = []\n",
    "        for i in self.predict_2_1:\n",
    "            self.chr_split += i\n",
    "        self.cg_count = self.chr_split.count('c') + self.chr_split.count('g')\n",
    "        self.at_count = self.chr_split.count('a') + self.chr_split.count('t')\n",
    "        self.predict_3 = '{} % gc'.format((self.cg_count/len(self.chr_split))*100)\n",
    "        self.predict_3_1 = '{} % at'.format((self.at_count/len(self.chr_split))*100)\n",
    "        if info_level == 1:\n",
    "            return '{}\\n{}\\n{}\\n{}\\n{}\\n{}'.format(self.predict_1, self.predict_1_1, self.predict_2, self.predict_2_1, self.predict_3, self.predict_3_1)\n",
    "        if info_level == 2:\n",
    "            return '{}\\n{}\\n{}'.format(self.predict_2_1, self.predict_3, self.predict_3_1)\n",
    "        if info_level == 3:\n",
    "            return '{}'.format(self.predict_2_1)"
   ]
  },
  {
   "cell_type": "code",
   "execution_count": null,
   "metadata": {},
   "outputs": [],
   "source": []
  },
  {
   "cell_type": "code",
   "execution_count": 14,
   "metadata": {},
   "outputs": [],
   "source": [
    "cpr = Prediction()\n",
    "ctr = Translate_Data()"
   ]
  },
  {
   "cell_type": "code",
   "execution_count": 18,
   "metadata": {},
   "outputs": [
    {
     "name": "stdout",
     "output_type": "stream",
     "text": [
      "accaagccgcgc\n",
      "----------------\n",
      "TKPR\n"
     ]
    }
   ],
   "source": [
    "print(cpr.predict_sequence('TKPR', 'gc', 3))\n",
    "print(\"-\"*16)\n",
    "print(ctr.print_translation('acgaagccgcgg', 3))"
   ]
  },
  {
   "cell_type": "code",
   "execution_count": 15,
   "metadata": {},
   "outputs": [
    {
     "data": {
      "text/plain": [
       "str"
      ]
     },
     "execution_count": 15,
     "metadata": {},
     "output_type": "execute_result"
    }
   ],
   "source": [
    "type(ctr.nuc_transcript)"
   ]
  },
  {
   "cell_type": "code",
   "execution_count": 3,
   "metadata": {},
   "outputs": [],
   "source": [
    "def change_items(d_input, i_key, out_type='str'):             # Modify column of items\n",
    "    for i in d_input:\n",
    "        print(i, i_key, '?', 'before:', d_input[i][i_key])\n",
    "        itm = input('{}'.format(i))\n",
    "        if itm == 'stop':\n",
    "            return\n",
    "        if itm == 'pass':\n",
    "            pass\n",
    "        if out_type == 'int' and itm != 'pass':\n",
    "            d_input[i][i_key] = int(itm)\n",
    "        elif out_type == 'float' and itm != 'pass':\n",
    "            d_input[i][i_key] = float(itm)\n",
    "        elif out_type == 'str' and itm != 'pass':\n",
    "            d_input[i][i_key] = itm\n",
    "        elif out_type == 'var' and itm != 'pass':\n",
    "            d_input[i][i_key] = eval(itm)\n",
    "def map_grid(info_dict, dict_name):                                       # map new order from info\n",
    "    set_ls = []\n",
    "    for i in info_dict[dict_name][list(info_dict[dict_name].keys())[0]]:\n",
    "        set_ls += [i]\n",
    "    return set_ls\n",
    "def arrange_new_dict(a_dict, h_dl):                                 # Rewrite\n",
    "    x_dict = {}\n",
    "    for i in a_dict:\n",
    "        x_dict[i] = {}\n",
    "        for x in range(len(h_dl)):\n",
    "            for f in a_dict[i]:\n",
    "                if f == h_dl[x]:\n",
    "                    x_dict[i][f] = a_dict[i][f]\n",
    "    return x_dict\n",
    "def reiterate_dict(a_dict):                                 # Reiterate dict with new format\n",
    "    print('{')\n",
    "    for i in a_dict:\n",
    "        print(\"'{}'\".format(i), ':', a_dict[i],',')\n",
    "    print('}')\n",
    "def instert_key(dict_i, key_i, container_value='0'):            # Instert  key:item\n",
    "    for i in dict_i:\n",
    "        dict_i[i][key_i] = 0\n",
    "# reiterate_dict(arrange_new_dict(a_data, set_ls))          # do it all\n"
   ]
  },
  {
   "cell_type": "code",
   "execution_count": 6,
   "metadata": {},
   "outputs": [],
   "source": [
    "water_mass = c_m.t_mass('H 2 O 1')[0]"
   ]
  },
  {
   "cell_type": "code",
   "execution_count": 8,
   "metadata": {},
   "outputs": [
    {
     "data": {
      "text/plain": [
       "751.43849"
      ]
     },
     "execution_count": 8,
     "metadata": {},
     "output_type": "execute_result"
    }
   ],
   "source": [
    "a_data['T']['mi']+a_data['K']['mi']+a_data['P']['mi']+a_data['R']['mi']+a_data['P']['mi']+a_data['G']['mi']+a_data['P']['mi']+ water_mass"
   ]
  },
  {
   "cell_type": "code",
   "execution_count": 32,
   "metadata": {},
   "outputs": [],
   "source": [
    "amino_mass = a_mass['T']+a_mass['K']+a_mass['P']+a_mass['R']+a_mass['P']+a_mass['G']+a_mass['P']"
   ]
  },
  {
   "cell_type": "code",
   "execution_count": 33,
   "metadata": {},
   "outputs": [
    {
     "data": {
      "text/plain": [
       "751.887"
      ]
     },
     "execution_count": 33,
     "metadata": {},
     "output_type": "execute_result"
    }
   ],
   "source": [
    "water_mass + amino_mass"
   ]
  },
  {
   "cell_type": "code",
   "execution_count": 9,
   "metadata": {},
   "outputs": [
    {
     "data": {
      "text/plain": [
       "751.887"
      ]
     },
     "execution_count": 9,
     "metadata": {},
     "output_type": "execute_result"
    }
   ],
   "source": [
    "c_m.t_mass('C 33 H 57 N 11 O 9')[0]"
   ]
  },
  {
   "cell_type": "code",
   "execution_count": 14,
   "metadata": {},
   "outputs": [],
   "source": [
    "a_mass = {}\n",
    "for i in sd_dat:\n",
    "    a_mass[i] = c_m.t_mass(sd_dat[i])[0]"
   ]
  },
  {
   "cell_type": "code",
   "execution_count": null,
   "metadata": {},
   "outputs": [],
   "source": [
    "\n",
    "                                                   # dict parsing method\n",
    "\"\"\"for i in a_data:\n",
    "    for f in amino_acid:\n",
    "        if amino_acid[f]['letter_code'] == i:\n",
    "            a_data[i]['hp'] = amino_acid[f]['amino_hydropathy']\"\"\"\n",
    "                                                 # get all key from key in nested dict\n",
    "\"\"\"for i in a_data['H']:\n",
    "    print(i)\"\"\"\n",
    "def set_key_order(h_dl):\n",
    "    n_dl = []                                            # Map individually\n",
    "    n_dl += [h_dl[0]]\n",
    "    n_dl += [h_dl[1]]\n",
    "    n_dl += [h_dl[2]]\n",
    "    n_dl += [h_dl[3]]\n",
    "    n_dl += [h_dl[4]]\n",
    "    n_dl += [h_dl[5]]\n",
    "    n_dl += [h_dl[6]]\n",
    "    n_dl += [h_dl[7]]\n",
    "    print(n_dl) \n",
    "    \n",
    "hot_ls = []\n",
    "get_ls = {}\n",
    "end_dat = {}\n",
    "for i in a_data:\n",
    "    hot_ls += [(i, a_data[i]['ef'])]\n",
    "for i in hot_ls:\n",
    "    get_ls[i[0]] = []\n",
    "    for f in i[1]:\n",
    "        get_ls[i[0]]+=[f]\n",
    "for i in get_ls:\n",
    "    end_dat[i] = []\n",
    "for i in get_ls:\n",
    "    end_dat[i[0]] = ' '.join(get_ls[i])\n",
    "# end_dat\n",
    "\n",
    "hot_ls = []\n",
    "for i in a_data:\n",
    "    for f in a_data[i]['ef']:\n",
    "        hot_str += [f] \n",
    "        print(i, f)"
   ]
  },
  {
   "cell_type": "code",
   "execution_count": 14,
   "metadata": {},
   "outputs": [],
   "source": [
    "def get_peptide_mass(p_name):\n",
    "    mass_ls = []\n",
    "    for i in p_name:\n",
    "        if i in a_data:\n",
    "            mass_ls+= [c_m.t_mass(a_data[i]['ef'])[0]]\n",
    "    mass_ls += [c_m.t_mass('H 2 O 1')[0]]\n",
    "    return sum(mass_ls)\n",
    "#get_peptide_mass('TKPRPGP')"
   ]
  },
  {
   "cell_type": "code",
   "execution_count": 4,
   "metadata": {},
   "outputs": [],
   "source": [
    "for i in a_data:\n",
    "    for f in amino_acid:\n",
    "        if amino_acid[f]['letter_code'] == i:\n",
    "            a_data[i]['hp'] = amino_acid[f]['amino_hydropathy']"
   ]
  },
  {
   "cell_type": "code",
   "execution_count": null,
   "metadata": {},
   "outputs": [],
   "source": []
  },
  {
   "cell_type": "code",
   "execution_count": 17,
   "metadata": {},
   "outputs": [
    {
     "name": "stdout",
     "output_type": "stream",
     "text": [
      "1.625099999999975\n",
      "0.7594000000000278\n",
      "1.0858999999999241\n",
      "0.4596999999999696\n",
      "1.398099999999971\n",
      "1.346900000000062\n",
      "0.6423999999998387\n",
      "0.8308999999999855\n",
      "0.7241999999999393\n",
      "0.8788999999998737\n",
      "0.7594000000000278\n",
      "0.5368999999998891\n",
      "1.1266999999998006\n",
      "0.5732000000000426\n",
      "0.418899999999951\n",
      "0.6107000000000085\n",
      "0.800400000000252\n",
      "0.7241000000001918\n",
      "0.6105999999999767\n",
      "0.3054000000000201\n",
      "-0.0\n",
      "-0.0\n",
      "-0.0\n"
     ]
    }
   ],
   "source": [
    "for i in a_data:\n",
    "    print((a_data[i]['mi']-a_mass[i])*-10)"
   ]
  },
  {
   "cell_type": "code",
   "execution_count": 15,
   "metadata": {},
   "outputs": [
    {
     "data": {
      "text/plain": [
       "{'M': 131.203,\n",
       " 'L': 113.16,\n",
       " 'F': 147.177,\n",
       " 'S': 87.078,\n",
       " 'C': 103.149,\n",
       " 'W': 186.214,\n",
       " 'P': 97.11699999999999,\n",
       " 'H': 137.142,\n",
       " 'Q': 128.131,\n",
       " 'R': 156.189,\n",
       " 'I': 113.16,\n",
       " 'V': 99.133,\n",
       " 'Y': 163.176,\n",
       " 'T': 101.105,\n",
       " 'A': 71.079,\n",
       " 'N': 114.104,\n",
       " 'K': 128.175,\n",
       " 'E': 129.115,\n",
       " 'D': 115.088,\n",
       " 'G': 57.052,\n",
       " 'O': 0.0,\n",
       " 'B': 0.0,\n",
       " 'U': 0.0}"
      ]
     },
     "execution_count": 15,
     "metadata": {},
     "output_type": "execute_result"
    }
   ],
   "source": [
    "a_mass"
   ]
  },
  {
   "cell_type": "code",
   "execution_count": 16,
   "metadata": {},
   "outputs": [],
   "source": [
    "sd_dat ={'M': 'C 5 H 9 N 1 O 1 S 1',\n",
    "         'L': 'C 6 H 11 N 1 O 1',\n",
    "         'F': 'C 9 H 9 N 1 O 1',\n",
    "         'S': 'C 3 H 5 N 1 O 2',\n",
    "         'C': 'C 3 H 5 N 1 O 1 S 1',\n",
    "         'W': 'C 11 H 10 N 2 O 1',\n",
    "         'P': 'C 5 H 7 N 1 O 1',\n",
    "         'H': 'C 6 H 7 N 3 O 1',\n",
    "         'Q': 'C 5 H 8 N 2 O 2',\n",
    "         'R': 'C 6 H 12 N 4 O 1',\n",
    "         'I': 'C 6 H 11 N 1 O 1',\n",
    "         'V': 'C 5 H 9 N 1 O 1',\n",
    "         'Y': 'C 9 H 9 N 1 O 2',\n",
    "         'T': 'C 4 H 7 N 1 O 2',\n",
    "         'A': 'C 3 H 5 N 1 O 1',\n",
    "         'N': 'C 4 H 6 N 2 O 2',\n",
    "         'K': 'C 6 H 12 N 2 O 1',\n",
    "         'E': 'C 5 H 7 N 1 O 3',\n",
    "         'D': 'C 4 H 5 N 1 O 3',\n",
    "         'G': 'C 2 H 3 N 1 O 1',\n",
    "         'O': 'C 0',\n",
    "         'B': 'C 0',\n",
    "         'U': 'C 0'}"
   ]
  },
  {
   "cell_type": "code",
   "execution_count": 1,
   "metadata": {},
   "outputs": [],
   "source": [
    "e_data={'H':{'nr':1,'ea':72.8,'d':0.0899,'mb':(-259.1,-252.9),'en':2.2,'os':((-1,1,0),(-1,1,0)),'m':1.008},\n",
    "        'He':{'nr':2,'ea':0,'d':0.01785,'mb':(0,-269),'en':0,'os':((0,0),(0,0)),'m':4.0026},\n",
    "        'Li':{'nr':3,'ea':59.6,'d':535,'mb':(180.54,1342),'en':0.98,'os':((1,0),(1,0)),'m':6.941},\n",
    "        'Be':{'nr':4,'ea':0,'d':1848,'mb':(1287,2470),'en':1.57,'os':((1,0),(1,2,0)),'m':9.0122},\n",
    "        'B':{'nr':5,'ea':26.7,'d':2460,'mb':(2075,4000),'en':2.04,'os':((3,0),(1,2,3,0)),'m':10.81},\n",
    "        'C':{'nr':6,'ea':153.9,'d':2260,'mb':(3550,4027),'en':2.55,'os':((-4,4,0),(-4,-3,-2,-1,1,2,3,4,0)),'m':12.011},\n",
    "        'N':{'nr':7,'ea':7,'d':1.251,'mb':(-210.1,-195.8),'en':3.04,'os':((-3,3,5,0),(-3,-2,-1,1,2,3,4,5,0)),'m':14.007},\n",
    "        'O':{'nr':8,'ea':141,'d':1.429,'mb':(-218,-193),'en':3.44,'os':((-2,0),(-2,-1,1,2,0)),'m':15.999},\n",
    "        'F':{'nr':9,'ea':328,'d':1.696,'mb':(-220,-188.1),'en':3.98,'os':((-1,0),(-1,0)),'m':18.998},\n",
    "        'Ne':{'nr':10,'ea':0,'d':0.9,'mb':(-248.6,-246.1),'en':0,'os':((0,0),(0,0)),'m':20.18},\n",
    "        'Na':{'nr':11,'ea':52.8,'d':968,'mb':(97.72,889.9),'en':0.93,'os':((1,0),(-1,1,0)),'m':22.99},\n",
    "        'Mg':{'nr':12,'ea':0,'d':1738,'mb':(650,1090),'en':1.31,'os':((2,0),(1,2,0)),'m':24.31},\n",
    "        'Al':{'nr':13,'ea':42.5,'d':2700,'mb':(660.32,2519),'en':1.61,'os':((3,0),(1,2,3,0)),'m':26.98},\n",
    "        'Si':{'nr':14,'ea':133.6,'d':2330,'mb':(1414,2900),'en':1.9,'os':((-4,4,0),(-4,-3,-2,-1,1,2,3,4,0)),'m':28.09},\n",
    "        'P':{'nr':15,'ea':72,'d':1823,'mb':(44.15,280.5),'en':2.19,'os':((-3,3,5,0),(-3,-2,-1,1,2,3,4,5,0)),'m':30.97},\n",
    "        'S':{'nr':16,'ea':200,'d':1960,'mb':(115.21,444.72),'en':2.58,'os':((-2,2,4,6,0),(-2,-1,1,2,3,4,5,6,0)),'m':32.07},\n",
    "        'Cl':{'nr':17,'ea':349,'d':3.214,'mb':(-101.5,-34.04),'en':3.16,'os':((-1,1,3,5,7,0),(-1,1,2,3,4,5,6,7,0)),'m':35.45},\n",
    "        'Ar':{'nr':18,'ea':0,'d':1.784,'mb':(-189,-186),'en':0,'os':((0,0),(0,0)),'m':39.95},\n",
    "        'K':{'nr':19,'ea':48.4,'d':856,'mb':(63.38,758.9),'en':0.82,'os':((1,0),(-1,1,0)),'m':39.098},\n",
    "        'Ca':{'nr':20,'ea':2.37,'d':1550,'mb':(841.9,1484),'en':1,'os':((2,0),(1,2,0)),'m':40.078},\n",
    "        'Sc':{'nr':21,'ea':18.1,'d':2985,'mb':(1541,2830),'en':1.36,'os':((3,0),(1,2,3,0)),'m':44.956},\n",
    "        'Ti':{'nr':22,'ea':7.6,'d':4507,'mb':(1668,3287),'en':1.54,'os':((4,0),(-1,2,3,4,0)),'m':47.867},\n",
    "        'V':{'nr':23,'ea':50.6,'d':6110,'mb':(1910,3407),'en':1.63,'os':((5,0),(-1,1,2,3,4,5,0)),'m':50.942},\n",
    "        'Cr':{'nr':24,'ea':64.3,'d':7190,'mb':(1907,2671),'en':1.66,'os':((3,6,0),(-2,-1,1,2,3,4,5,6,0)),'m':51.996},\n",
    "        'Mn':{'nr':25,'ea':0,'d':7470,'mb':(1246,2061),'en':1.55,'os':((2,4,7,0),(-3,-2,-1,1,2,3,4,5,6,7,0)),'m':54.938},\n",
    "        'Fe':{'nr':26,'ea':15.7,'d':7874,'mb':(1538,2861),'en':1.83,'os':((2,3,0),(-2,-1,1,2,3,4,5,6,0)),'m':55.845},\n",
    "        'Co':{'nr':27,'ea':63.7,'d':8900,'mb':(1495,2900),'en':1.88,'os':((2,3,0),(-1,1,2,3,4,5,0)),'m':58.933},\n",
    "        'Ni':{'nr':28,'ea':112,'d':8908,'mb':(1455,2913),'en':1.91,'os':((2,0),(-1,1,2,3,4,0)),'m':58.693},\n",
    "        'Cu':{'nr':29,'ea':118.4,'d':8960,'mb':(1084.62,2562),'en':1.9,'os':((2,0),(1,2,3,4,0)),'m':63.546},\n",
    "        'Zn':{'nr':30,'ea':0,'d':7140,'mb':(419.53,906.9),'en':1.65,'os':((2,0),(1,2,0)),'m':65.38},\n",
    "        'Ga':{'nr':31,'ea':28.9,'d':5904,'mb':(29.76,2204),'en':1.81,'os':((3,0),(1,2,3,0)),'m':69.723},\n",
    "        'Ge':{'nr':32,'ea':119,'d':5323,'mb':(938.25,2820),'en':2.01,'os':((-4,2,4,0),(-4,1,2,3,4,0)),'m':72.63},\n",
    "        'As':{'nr':33,'ea':78,'d':5727,'mb':(816.9,614),'en':2.18,'os':((-3,3,5,0),(-3,2,3,5,0)),'m':74.922},\n",
    "        'Se':{'nr':34,'ea':195,'d':4819,'mb':(221,685),'en':2.55,'os':((-2,2,4,6,0),(-2,1,2,4,6,0)),'m':78.971},\n",
    "        'Br':{'nr':35,'ea':324.6,'d':3120,'mb':(-7350,58.9),'en':2.96,'os':((-1,1,3,5,0),(-1,1,3,4,5,7,0)),'m':79.904},\n",
    "        'Kr':{'nr':36,'ea':0,'d':3.75,'mb':(-157.36,-153.22),'en':3,'os':((2,0),(2,0)),'m':83.798},\n",
    "        'Rb':{'nr':37,'ea':46.9,'d':1532,'mb':(39.31,688),'en':0.82,'os':((1,0),(-1,1,0)),'m':85.468},\n",
    "        'Sr':{'nr':38,'ea':5.03,'d':2630,'mb':(776.9,1382),'en':0.95,'os':((2,0),(1,2,0)),'m':87.62},\n",
    "        'Y':{'nr':39,'ea':29.6,'d':4472,'mb':(1526,3345),'en':1.22,'os':((3,0),(1,2,3,0)),'m':88.906},\n",
    "        'Zr':{'nr':40,'ea':41.1,'d':6511,'mb':(1855,4409),'en':1.33,'os':((4,0),(1,2,3,4,0)),'m':91.224},\n",
    "        'Nb':{'nr':41,'ea':86.1,'d':8570,'mb':(2477,4744),'en':1.6,'os':((5,0),(-1,2,3,4,5,0)),'m':92.906},\n",
    "        'Mo':{'nr':42,'ea':71.9,'d':10280,'mb':(2623,4639),'en':2.16,'os':((4,6,0),(-2,-1,1,2,3,4,5,6,0)),'m':95.95},\n",
    "        'Tc':{'nr':43,'ea':53,'d':11500,'mb':(2157,4265),'en':1.9,'os':((4,7,0),(-3,-1,1,2,3,4,5,6,7,0)),'m':98},\n",
    "        'Ru':{'nr':44,'ea':101.3,'d':12370,'mb':(2334,4150),'en':2.2,'os':((3,4,0),(-2,1,2,3,4,5,6,7,8,0)),'m':101.07},\n",
    "        'Rh':{'nr':45,'ea':109.7,'d':12450,'mb':(1964,3695),'en':2.28,'os':((3,0),(-1,1,2,3,4,5,6,0)),'m':102.91},\n",
    "        'Pd':{'nr':46,'ea':53.7,'d':12023,'mb':(1554.9,2963),'en':2.2,'os':((2,4,0),(2,4,0)),'m':106.42},\n",
    "        'Ag':{'nr':47,'ea':125.6,'d':10490,'mb':(961.78,2162),'en':1.93,'os':((1,0),(1,2,3,4,0)),'m':107.87},\n",
    "        'Cd':{'nr':48,'ea':0,'d':8650,'mb':(321.07,766.9),'en':1.69,'os':((2,0),(1,2,0)),'m':112.41},\n",
    "        'In':{'nr':49,'ea':28.9,'d':7310,'mb':(156.6,2072),'en':1.78,'os':((3,0),(1,2,3,0)),'m':114.82},\n",
    "        'Sn':{'nr':50,'ea':107.3,'d':7310,'mb':(231.93,2602),'en':1.96,'os':((-4,2,4,0),(-4,2,4,0)),'m':118.71},\n",
    "        'Sb':{'nr':51,'ea':103.2,'d':6697,'mb':(630.63,1587),'en':2.05,'os':((-3,3,5,0),(-3,3,5,0)),'m':121.76},\n",
    "        'Te':{'nr':52,'ea':190.2,'d':6240,'mb':(449.51,987.9),'en':2.1,'os':((-2,2,4,6,0),(-2,2,4,5,6,0)),'m':127.6},\n",
    "        'I':{'nr':53,'ea':295.2,'d':4940,'mb':(113.7,184.3),'en':2.66,'os':((-1,1,3,5,7,0),(-1,1,3,4,5,7,0)),'m':126.9},\n",
    "        'Xe':{'nr':54,'ea':0,'d':5.9,'mb':(-111.8,-108),'en':2.6,'os':((2,4,6,0),(2,4,6,8,0)),'m':131.29},\n",
    "        'Cs':{'nr':55,'ea':45.5,'d':1879,'mb':(28440,671),'en':0.79,'os':((1,0),(-1,1,0)),'m':132.91},\n",
    "        'Ba':{'nr':56,'ea':13.95,'d':3510,'mb':(730,1870),'en':0.89,'os':((2,0),(2,0)),'m':137.33},\n",
    "        'La':{'nr':57,'ea':48,'d':6146,'mb':(919.9,4364),'en':1.1,'os':((3,0),(2,3,0)),'m':138.91},\n",
    "        'Ce':{'nr':58,'ea':50,'d':6689,'mb':(797.9,3360),'en':1.12,'os':((3,4,0),(2,3,4,0)),'m':140.12},\n",
    "        'Pr':{'nr':59,'ea':50,'d':6640,'mb':(930.9,3290),'en':1.13,'os':((3,0),(2,3,4,0)),'m':140.91},\n",
    "        'Nd':{'nr':60,'ea':50,'d':7010,'mb':(1021,3100),'en':1.14,'os':((3,0),(2,3,0)),'m':144.24},\n",
    "        'Pm':{'nr':61,'ea':50,'d':7264,'mb':(1100,3000),'en':0,'os':((3,0),(3,0)),'m':145},\n",
    "        'Sm':{'nr':62,'ea':50,'d':7353,'mb':(1072,1803),'en':1.17,'os':((3,0),(2,3,0)),'m':150.36},\n",
    "        'Eu':{'nr':63,'ea':50,'d':5244,'mb':(821.9,1500),'en':0,'os':((2,3,0),(2,3,0)),'m':151.96},\n",
    "        'Gd':{'nr':64,'ea':50,'d':7901,'mb':(1313,3250),'en':1.2,'os':((3,0),(1,2,3,0)),'m':157.25},\n",
    "        'Tb':{'nr':65,'ea':50,'d':8219,'mb':(1356,3230),'en':0,'os':((3,0),(1,3,4,0)),'m':158.93},\n",
    "        'Dy':{'nr':66,'ea':50,'d':8551,'mb':(1412,2567),'en':1.22,'os':((3,0),(2,3,0)),'m':162.5},\n",
    "        'Ho':{'nr':67,'ea':50,'d':8795,'mb':(1474,2700),'en':1.23,'os':((3,0),(3,0)),'m':164.93},\n",
    "        'Er':{'nr':68,'ea':50,'d':9066,'mb':(1497,2868),'en':1.24,'os':((3,0),(3,0)),'m':167.26},\n",
    "        'Tm':{'nr':69,'ea':50,'d':9320,'mb':(1545,1950),'en':1.25,'os':((3,0),(2,3,0)),'m':168.93},\n",
    "        'Yb':{'nr':70,'ea':50,'d':6570,'mb':(818.9,1196),'en':0,'os':((3,0),(2,3,0)),'m':173.05},\n",
    "        'Lu':{'nr':71,'ea':50,'d':9841,'mb':(1663,3402),'en':1.27,'os':((3,0),(3,0)),'m':174.97},\n",
    "        'Hf':{'nr':72,'ea':0,'d':13310,'mb':(2233,4603),'en':1.3,'os':((4,0),(2,3,4,0)),'m':178.49},\n",
    "        'Ta':{'nr':73,'ea':31,'d':16650,'mb':(3017,5458),'en':1.5,'os':((5,0),(-1,2,3,4,5,0)),'m':180.95},\n",
    "        'W':{'nr':74,'ea':78.6,'d':19250,'mb':(3422,5555),'en':2.36,'os':((4,6,0),(-2,-1,1,2,3,4,5,6,0)),'m':183.84},\n",
    "        'Re':{'nr':75,'ea':14.5,'d':21020,'mb':(3186,5596),'en':1.9,'os':((4,0),(-3,-1,1,2,3,4,5,6,7,0)),'m':186.21},\n",
    "        'Os':{'nr':76,'ea':106.1,'d':22590,'mb':(3033,5012),'en':2.2,'os':((4,0),(-2,1,2,3,4,5,6,7,8,0)),'m':190.23},\n",
    "        'Ir':{'nr':77,'ea':151,'d':22560,'mb':(2466,4428),'en':2.2,'os':((3,4,0),(-3,-1,1,2,3,4,5,6,7,8,0)),'m':192.22},\n",
    "        'Pt':{'nr':78,'ea':205.3,'d':21450,'mb':(1768.3,3825),'en':2.28,'os':((2,4,0),(2,4,5,6,0)),'m':195.08},\n",
    "        'Au':{'nr':79,'ea':222.8,'d':19300,'mb':(1064.18,2856),'en':2.54,'os':((3,0),(-1,1,2,3,5,0)),'m':196.97},\n",
    "        'Hg':{'nr':80,'ea':0,'d':13534,'mb':(-38830,356.73),'en':2,'os':((1,2,0),(1,2,4,0)),'m':200.59},\n",
    "        'Tl':{'nr':81,'ea':19.2,'d':11850,'mb':(304,1473),'en':1.62,'os':((1,3,0),(1,3,0)),'m':204.38},\n",
    "        'Pb':{'nr':82,'ea':35.1,'d':11340,'mb':(327.46,1749),'en':2.33,'os':((2,4,0),(-4,2,4,0)),'m':207.2},\n",
    "        'Bi':{'nr':83,'ea':91.2,'d':9780,'mb':(271.3,1564),'en':2.02,'os':((3,0),(-3,3,5,0)),'m':208.98},\n",
    "        'Po':{'nr':84,'ea':183.3,'d':9196,'mb':(255,961.9),'en':2,'os':((-2,2,4,0),(-2,2,4,6,0)),'m':209},\n",
    "        'At':{'nr':85,'ea':270.1,'d':0,'mb':(302,350),'en':2.2,'os':((-1,1,0),(-1,1,3,5,7,0)),'m':210},\n",
    "        'Rn':{'nr':86,'ea':0,'d':9.73,'mb':(-71.1,-61.85),'en':0,'os':((2,0),(2,0)),'m':222},\n",
    "        'Fr':{'nr':87,'ea':0,'d':0,'mb':(20.9,650),'en':0.7,'os':((1,0),(1,0)),'m':223},\n",
    "        'Ra':{'nr':88,'ea':0,'d':5000,'mb':(700,1737),'en':0.9,'os':((2,0),(2,0)),'m':226},\n",
    "        'Ac':{'nr':89,'ea':0,'d':10070,'mb':(1050,3200),'en':1.1,'os':((3,0),(2,3,0)),'m':227},\n",
    "        'Th':{'nr':90,'ea':0,'d':11724,'mb':(1750,4820),'en':1.3,'os':0,'m':232.04},\n",
    "        'Pa':{'nr':91,'ea':0,'d':15370,'mb':(1572,4000),'en':1.5,'os':0,'m':231.04},\n",
    "        'U':{'nr':92,'ea':0,'d':19050,'mb':(1135,3900),'en':1.38,'os':0,'m':238.03},\n",
    "        'Np':{'nr':93,'ea':0,'d':20450,'mb':(644,4000),'en':1.36,'os':0,'m':237},\n",
    "        'Pu':{'nr':94,'ea':0,'d':19816,'mb':(640,3230),'en':1.28,'os':0,'m':244},\n",
    "        'Am':{'nr':95,'ea':0,'d':13670,'mb':(1176,2011),'en':1.3,'os':0,'m':243},\n",
    "        'Cm':{'nr':96,'ea':0,'d':13510,'mb':(1345,3110),'en':1.3,'os':0,'m':247},\n",
    "        'Bk':{'nr':97,'ea':0,'d':14780,'mb':(1050,0),'en':1.3,'os':0,'m':247},\n",
    "        'Cf':{'nr':98,'ea':0,'d':15100,'mb':(899.9,0),'en':1.3,'os':0,'m':251},\n",
    "        'Es':{'nr':99,'ea':0,'d':0,'mb':(859.9,0),'en':1.3,'os':0,'m':252},\n",
    "        'Fm':{'nr':100,'ea':0,'d':0,'mb':(1500,0),'en':1.3,'os':0,'m':257},\n",
    "        'Md':{'nr':101,'ea':0,'d':0,'mb':(830,0),'en':1.3,'os':0,'m':258},\n",
    "        'No':{'nr':102,'ea':0,'d':0,'mb':(830,0),'en':1.3,'os':0,'m':259},\n",
    "        'Lr':{'nr':103,'ea':0,'d':0,'mb':(1600,0),'en':0,'os':0,'m':266},\n",
    "        'Rf':{'nr':104,'ea':0,'d':0,'mb':(0,0),'en':0,'os':0,'m':267},\n",
    "        'Db':{'nr':105,'ea':0,'d':0,'mb':(0,0),'en':0,'os':0,'m':268},\n",
    "        'Sg':{'nr':106,'ea':0,'d':0,'mb':(0,0),'en':0,'os':0,'m':269},\n",
    "        'Bh':{'nr':107,'ea':0,'d':0,'mb':(0,0),'en':0,'os':0,'m':270},\n",
    "        'Hs':{'nr':108,'ea':0,'d':0,'mb':(0,0),'en':0,'os':0,'m':277},\n",
    "        'Mt':{'nr':109,'ea':0,'d':0,'mb':(0,0),'en':0,'os':0,'m':278},\n",
    "        'Ds':{'nr':110,'ea':0,'d':0,'mb':(0,0),'en':0,'os':0,'m':281},\n",
    "        'Rg':{'nr':111,'ea':0,'d':0,'mb':(0,0),'en':0,'os':0,'m':282},\n",
    "        'Cn':{'nr':112,'ea':0,'d':0,'mb':(0,0),'en':0,'os':0,'m':285},\n",
    "        'Nh':{'nr':113,'ea':0,'d':0,'mb':(0,0),'en':0,'os':0,'m':286},\n",
    "        'Fl':{'nr':114,'ea':0,'d':0,'mb':(0,0),'en':0,'os':0,'m':289},\n",
    "        'Mc':{'nr':115,'ea':0,'d':0,'mb':(0,0),'en':0,'os':0,'m':290},\n",
    "        'Lv':{'nr':116,'ea':0,'d':0,'mb':(0,0),'en':0,'os':0,'m':293},\n",
    "        'Ts':{'nr':117,'ea':0,'d':0,'mb':(0,0),'en':0,'os':0,'m':294},\n",
    "        'Og':{'nr':118,'ea':0,'d':0,'mb':(0,0),'en':0,'os':0,'m':294}}\n",
    "\n"
   ]
  }
 ],
 "metadata": {
  "kernelspec": {
   "display_name": "Python 3",
   "language": "python",
   "name": "python3"
  },
  "language_info": {
   "codemirror_mode": {
    "name": "ipython",
    "version": 3
   },
   "file_extension": ".py",
   "mimetype": "text/x-python",
   "name": "python",
   "nbconvert_exporter": "python",
   "pygments_lexer": "ipython3",
   "version": "3.8.0"
  }
 },
 "nbformat": 4,
 "nbformat_minor": 2
}
