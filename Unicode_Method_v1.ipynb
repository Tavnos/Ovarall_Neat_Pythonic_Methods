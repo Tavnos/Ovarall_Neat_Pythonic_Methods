{
 "cells": [
  {
   "cell_type": "code",
   "execution_count": 3,
   "metadata": {},
   "outputs": [],
   "source": [
    "import encodings"
   ]
  },
  {
   "cell_type": "code",
   "execution_count": 7,
   "metadata": {},
   "outputs": [],
   "source": [
    "symbol_test = 'æ'"
   ]
  },
  {
   "cell_type": "code",
   "execution_count": 8,
   "metadata": {},
   "outputs": [
    {
     "name": "stdout",
     "output_type": "stream",
     "text": [
      "Get all possible encoding from encodings.aliases.aliases in one list\n"
     ]
    }
   ],
   "source": [
    "print('Get all possible encoding from encodings.aliases.aliases in one list')\n",
    "def init_codex_ls():\n",
    "    codex_dict = encodings.aliases.aliases\n",
    "    codex_ls, hot_var = ['unicode_escape', 'idna'], []\n",
    "    for i in codex_dict:\n",
    "        if i not in codex_ls:\n",
    "            codex_ls += [i]\n",
    "        if codex_dict[i] not in codex_ls:\n",
    "            codex_ls += [codex_dict[i]]\n",
    "    for i in codex_ls:\n",
    "        try:\n",
    "            warm_ls = bytes(' ', i)\n",
    "            if i not in hot_var:\n",
    "                hot_var += [i]\n",
    "        except:\n",
    "            pass\n",
    "    codex_ls = hot_var \n",
    "    codex_ls.sort()\n",
    "    return codex_ls\n",
    "codex_ls = init_codex_ls()\n",
    "#print(codex_ls)"
   ]
  },
  {
   "cell_type": "code",
   "execution_count": 10,
   "metadata": {},
   "outputs": [
    {
     "name": "stdout",
     "output_type": "stream",
     "text": [
      "Test all the possible way a string can be encoded (can be symbol)\n"
     ]
    }
   ],
   "source": [
    "print(\"Test all the possible way a string can be encoded (can be symbol)\")\n",
    "def test_string(string_input):\n",
    "    codex_ls = init_codex_ls()\n",
    "    diff_output = [] \n",
    "    for i in codex_ls:\n",
    "        try:\n",
    "            hot_var = bytes(string_input, i)\n",
    "            if hot_var not in diff_output:\n",
    "                diff_output += [hot_var]\n",
    "        except:\n",
    "            pass\n",
    "    return diff_output\n",
    "ls_test = test_string(symbol_test)\n",
    "#print(ls_test)"
   ]
  },
  {
   "cell_type": "code",
   "execution_count": 18,
   "metadata": {},
   "outputs": [
    {
     "name": "stdout",
     "output_type": "stream",
     "text": [
      "Make a dict assembling all the codex encoding in the same specific way\n"
     ]
    }
   ],
   "source": [
    "print('Make a dict assembling all the codex encoding in the same specific way')\n",
    "def make_dictionary(symbol_test=' '):\n",
    "    cat_codex = {}\n",
    "    codex_ls = init_codex_ls()\n",
    "    ls_test = test_string(symbol_test)\n",
    "    for i in ls_test:\n",
    "        cat_codex[i] = []\n",
    "    for i in codex_ls:\n",
    "        for f in cat_codex:\n",
    "            try:\n",
    "                hot_var = bytes(symbol_test, i)\n",
    "                if hot_var == f:\n",
    "                    cat_codex[f] += [i]\n",
    "            except:\n",
    "                pass\n",
    "    return cat_codex\n",
    "d_cat = make_dictionary(symbol_test)\n",
    "#print(d_cat)\n",
    "#d_cat"
   ]
  },
  {
   "cell_type": "code",
   "execution_count": 21,
   "metadata": {},
   "outputs": [
    {
     "name": "stdout",
     "output_type": "stream",
     "text": [
      "returning the length of lists with composition and total possible codex aliases \n"
     ]
    }
   ],
   "source": [
    "print('returning the length of lists with composition and total possible codex aliases ')\n",
    "def enum_bytes_comp(symbol_test=' '):\n",
    "    d_cat = make_dictionary(symbol_test)\n",
    "    hot_list, temp_list = [], []\n",
    "    for i in d_cat:\n",
    "        hot_list += [(i, len(d_cat[i]))]\n",
    "    for i in hot_list:\n",
    "        temp_list += [i[1]]\n",
    "    hot_list += [('total', sum(temp_list))]\n",
    "    return hot_list\n",
    "cat_ls = enum_bytes_comp(symbol_test)\n",
    "#print(cat_ls)\n",
    "#cat_ls"
   ]
  },
  {
   "cell_type": "code",
   "execution_count": 24,
   "metadata": {},
   "outputs": [
    {
     "name": "stdout",
     "output_type": "stream",
     "text": [
      "returning the enum codex index stat\n"
     ]
    }
   ],
   "source": [
    "print('returning the enum codex index stat')\n",
    "def display_dictionary(symbol_test=' '):\n",
    "    d_cat = make_dictionary(symbol_test)\n",
    "    cat_ls = enum_bytes_comp(symbol_test)\n",
    "    hot_dict = {}\n",
    "    hot_dict['stat'] = [cat_ls]\n",
    "    for i in d_cat:\n",
    "        hot_dict[i] = []\n",
    "        if type(hot_dict[i]) == list:\n",
    "            for f in d_cat[i]:\n",
    "                hot_dict[i] += [f]\n",
    "        else:\n",
    "            hot_dict[i] += [f]\n",
    "    return hot_dict\n",
    "codex_index = display_dictionary(symbol_test)\n",
    "#print(codex_index)\n",
    "#codex_index"
   ]
  },
  {
   "cell_type": "code",
   "execution_count": 30,
   "metadata": {},
   "outputs": [
    {
     "name": "stdout",
     "output_type": "stream",
     "text": [
      "returning the hex of char or int\n"
     ]
    }
   ],
   "source": [
    "print(\"returning the hex of char or int\")\n",
    "def get_standardized_hex(symbol): \n",
    "    if type(symbol) == str:\n",
    "        hex_char = (hex(ord(symbol)))\n",
    "    elif type(symbol) == int:\n",
    "        hex_char = hex(symbol)\n",
    "    return hex_char\n",
    "get_hex = get_standardized_hex(symbol_test)\n",
    "#print(get_hex)\n",
    "#get_hex"
   ]
  },
  {
   "cell_type": "code",
   "execution_count": 31,
   "metadata": {},
   "outputs": [
    {
     "name": "stdout",
     "output_type": "stream",
     "text": [
      "returning the byte version of a hex\n"
     ]
    }
   ],
   "source": [
    "print('returning the byte version of a hex')\n",
    "def get_byte_from_hex(symbol): \n",
    "    hot_var = get_standardized_hex(symbol)\n",
    "    hot_var = eval(\"b'\\\\{}'\".format(hot_var.replace('0x', 'x')))\n",
    "    return hot_var\n",
    "get_hex_byte = get_byte_from_hex(symbol_test)\n",
    "#print(get_hex_byte)\n",
    "#get_hex_byte"
   ]
  },
  {
   "cell_type": "code",
   "execution_count": 34,
   "metadata": {},
   "outputs": [
    {
     "name": "stdout",
     "output_type": "stream",
     "text": [
      "returning the codexes allowing for the hex encoding\n"
     ]
    }
   ],
   "source": [
    "print('returning the codexes allowing for the hex encoding')\n",
    "def get_special_codex(symbol):\n",
    "    get_d_cat = display_dictionary(symbol)\n",
    "    get_com_sym = get_d_cat[get_byte_from_hex(symbol)]\n",
    "    return get_com_sym\n",
    "s_c = get_special_codex('ø') \n",
    "#print(s_c)\n",
    "#s_c"
   ]
  },
  {
   "cell_type": "code",
   "execution_count": null,
   "metadata": {},
   "outputs": [],
   "source": [
    "###############################################################################\n",
    "# returning the codexes allowing for the hex encoding:\n",
    "#    eval(format(ord('char'), '#04x')).to_bytes(1, 'big')\n",
    "#  or  bytes.fromhex(format(ord('ø'), '#04x').replace('0x',''))\n",
    "###############################################################################"
   ]
  }
 ],
 "metadata": {
  "kernelspec": {
   "display_name": "Python 3",
   "language": "python",
   "name": "python3"
  },
  "language_info": {
   "codemirror_mode": {
    "name": "ipython",
    "version": 3
   },
   "file_extension": ".py",
   "mimetype": "text/x-python",
   "name": "python",
   "nbconvert_exporter": "python",
   "pygments_lexer": "ipython3",
   "version": "3.8.0"
  }
 },
 "nbformat": 4,
 "nbformat_minor": 2
}
