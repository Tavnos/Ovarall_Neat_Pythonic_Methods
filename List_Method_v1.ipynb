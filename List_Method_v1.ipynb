{
 "cells": [
  {
   "cell_type": "code",
   "execution_count": 13,
   "metadata": {},
   "outputs": [],
   "source": [
    "import numpy as np "
   ]
  },
  {
   "cell_type": "code",
   "execution_count": 15,
   "metadata": {},
   "outputs": [
    {
     "name": "stdout",
     "output_type": "stream",
     "text": [
      "get a custom list\n",
      "[1.0, 19.382279205960998, 60.91899282384401, 125.61014085364903, 213.45572329537603, 324.4557401490251, 458.6101914145961, 615.9190770920891, 796.3823971815041, 1000.0001516828411]\n"
     ]
    }
   ],
   "source": [
    "print('get a custom list')\n",
    "def special_calc(function_x, from_x, to_x, spread_x):\n",
    "    return list(map(lambda x_var:eval(function_x.replace('x','x_var')), np.linspace(from_x,to_x,spread_x).tolist()))\n",
    "print(special_calc('x**2', 1,31.622779,10))\n",
    "ht_ls = special_calc('x**2', 1,31.622779,10)"
   ]
  },
  {
   "cell_type": "code",
   "execution_count": 7,
   "metadata": {},
   "outputs": [
    {
     "name": "stdout",
     "output_type": "stream",
     "text": [
      "[1.0, 4.0, 9.0, 16.0, 25.0, 36.0, 49.0, 64.0, 81.0, 100.0]\n"
     ]
    }
   ],
   "source": [
    "list_var = [1.0, 4.0, 9.0, 16.0, 25.0, 36.0, 49.0, 64.0, 81.0, 100.0]\n",
    "print(list_var)"
   ]
  },
  {
   "cell_type": "code",
   "execution_count": 11,
   "metadata": {},
   "outputs": [
    {
     "name": "stdout",
     "output_type": "stream",
     "text": [
      "slice list in half\n",
      "[1.0, 4.0, 9.0, 16.0, 25.0]\n",
      "[36.0, 49.0, 64.0, 81.0, 100.0]\n"
     ]
    }
   ],
   "source": [
    "list_var = [1.0, 4.0, 9.0, 16.0, 25.0, 36.0, 49.0, 64.0, 81.0, 100.0]\n",
    "print(\"slice list in half\")\n",
    "first_sliced_list_var = list_var[0:int(len(list_var)/2)]\n",
    "print(first_sliced_list_var)\n",
    "second_sliced_list_var = list_var[int(len(list_var)/2)::]\n",
    "print(second_sliced_list_var)"
   ]
  },
  {
   "cell_type": "code",
   "execution_count": 9,
   "metadata": {},
   "outputs": [
    {
     "name": "stdout",
     "output_type": "stream",
     "text": [
      "increase list with double of each values\n",
      "[1.0, 2.0, 4.0, 8.0, 9.0, 16.0, 18.0, 25.0, 32.0, 36.0, 49.0, 50.0, 64.0, 72.0, 81.0, 98.0, 100.0, 128.0, 162.0, 200.0]\n"
     ]
    }
   ],
   "source": [
    "list_var = [1.0, 4.0, 9.0, 16.0, 25.0, 36.0, 49.0, 64.0, 81.0, 100.0]\n",
    "print(\"increase list with double of each values\")\n",
    "n_var = []\n",
    "for i in list_var:\n",
    "      n_var += [i*2]\n",
    "list_var += n_var\n",
    "list_var.sort()\n",
    "print(list_var)"
   ]
  },
  {
   "cell_type": "code",
   "execution_count": 10,
   "metadata": {},
   "outputs": [
    {
     "name": "stdout",
     "output_type": "stream",
     "text": [
      "Sum and average of values:\n",
      "[20, 14, 16, 19, 20, 19, 15, 20, 20, 19]\n",
      "182 sum()\n",
      "10 len()\n",
      "18.2 get_average()\n"
     ]
    }
   ],
   "source": [
    "print(\"Sum and average of values:\")\n",
    "list_nrm = [20,14,16,19,20,19,15,20,20,19]\n",
    "def get_average(list_nr):\n",
    "    return ((sum(list_nr))/(len(list_nr)))\n",
    "print(list_nrm)\n",
    "print(sum(list_nrm), 'sum()')\n",
    "print(len(list_nrm), 'len()')\n",
    "print(get_average(list_nrm), 'get_average()')"
   ]
  },
  {
   "cell_type": "code",
   "execution_count": 14,
   "metadata": {},
   "outputs": [
    {
     "name": "stdout",
     "output_type": "stream",
     "text": [
      "<class 'list'>\n",
      "[[1.0, 0.0, 0.0, 0.0], [0.0, 1.0, 0.0, 0.0], [0.0, 0.0, 1.0, 0.0], [0.0, 0.0, 0.0, 1.0]]\n",
      "<class 'numpy.ndarray'>\n",
      "[[1. 0. 0. 0.]\n",
      " [0. 1. 0. 0.]\n",
      " [0. 0. 1. 0.]\n",
      " [0. 0. 0. 1.]]\n"
     ]
    }
   ],
   "source": [
    "matrix_var = np.eye(4).tolist()\n",
    "print(type(matrix_var))\n",
    "print(matrix_var)\n",
    "matrix_var = np.eye(4)\n",
    "print(type(matrix_var))\n",
    "print(matrix_var)"
   ]
  },
  {
   "cell_type": "code",
   "execution_count": 17,
   "metadata": {},
   "outputs": [
    {
     "name": "stdout",
     "output_type": "stream",
     "text": [
      "defining list to array without numpy quick and easy\n"
     ]
    },
    {
     "data": {
      "text/plain": [
       "[[0, 0, 0, 0, 0, 0],\n",
       " [0, 0, 0, 0, 0, 0],\n",
       " [0, 0, 0, 0, 0, 0],\n",
       " [0, 0, 0, 0, 0, 0],\n",
       " [0, 0, 0, 0, 0, 0],\n",
       " [0, 0, 0, 0, 0, 0]]"
      ]
     },
     "execution_count": 17,
     "metadata": {},
     "output_type": "execute_result"
    }
   ],
   "source": [
    "print('defining list to array without numpy quick and easy')\n",
    "ls_r=[[0]*6]*6\n",
    "ls_r"
   ]
  },
  {
   "cell_type": "code",
   "execution_count": 15,
   "metadata": {},
   "outputs": [
    {
     "name": "stdout",
     "output_type": "stream",
     "text": [
      "Unpacking lists\n",
      "13 222 413 444 unpacked\n",
      "13 first element\n",
      "[222, 413] shortened from both ends\n",
      "444 last element\n"
     ]
    }
   ],
   "source": [
    "print('Unpacking lists')\n",
    "list_packed_elements = [13,222,413,444]\n",
    "a_1, b_2, c_3, d_4 = list_packed_elements\n",
    "print(a_1, b_2, c_3, d_4, 'unpacked')\n",
    "a_1, *middle_elements, d_4 = list_packed_elements\n",
    "print(a_1, 'first element')\n",
    "print(middle_elements, 'shortened from both ends')\n",
    "print(d_4, 'last element')"
   ]
  },
  {
   "cell_type": "code",
   "execution_count": 3,
   "metadata": {},
   "outputs": [
    {
     "name": "stdout",
     "output_type": "stream",
     "text": [
      "Splitting lists\n",
      "['s', 'p', 'l', 'i', 't', 's', 'o', 'm', 'e']\n",
      "['spl', 'its', 'ome']\n"
     ]
    }
   ],
   "source": [
    "print('Splitting lists')\n",
    "print([*'splitsome']) \n",
    "rand_str = 'splitsome'\n",
    "newlist = [rand_str[i:i+3] for i in range(0, len(rand_str), 3)]\n",
    "print(newlist) "
   ]
  },
  {
   "cell_type": "code",
   "execution_count": 8,
   "metadata": {},
   "outputs": [
    {
     "name": "stdout",
     "output_type": "stream",
     "text": [
      "# Compare lists\n",
      "###########################\n",
      "list 1 ['3q1', '2b2', '3', 'b', 'c']\n",
      "list 2 ['c', '3q1', '2b2', 'a', '4']\n",
      "###########################\n",
      "#-- elemment in list --#\n",
      "c in list 1\n",
      "3q1 in list 1\n",
      "2b2 in list 1\n",
      "---------------------------\n",
      "3q1 in list 2\n",
      "2b2 in list 2\n",
      "c in list 2\n",
      "#-- elemment not in list --#\n",
      "a not in list 1\n",
      "4 not in list 1\n",
      "---------------------------\n",
      "3 not in list 2\n",
      "b not in list 2\n",
      "###########################\n"
     ]
    }
   ],
   "source": [
    "print('# Compare lists')\n",
    "u_ls_1 = ['3q1','2b2','3','b','c']\n",
    "u_ls_2 = ['c', '3q1','2b2','a','4']\n",
    "print('###########################')\n",
    "print('list 1', u_ls_1)\n",
    "print('list 2', u_ls_2)\n",
    "print('###########################')\n",
    "print('#-- elemment in list --#')\n",
    "for i in u_ls_2:                        \n",
    "    if i in u_ls_1:\n",
    "        print(i, 'in list 1')\n",
    "print('---------------------------')\n",
    "for i in u_ls_1:\n",
    "    if i in u_ls_2:\n",
    "        print(i, 'in list 2')\n",
    "print('#-- elemment not in list --#')\n",
    "for i in u_ls_2:                        \n",
    "    if i not in u_ls_1:\n",
    "        print(i, 'not in list 1')\n",
    "print('---------------------------')\n",
    "for i in u_ls_1:\n",
    "    if i not in u_ls_2:\n",
    "        print(i, 'not in list 2')\n",
    "print('###########################')"
   ]
  },
  {
   "cell_type": "code",
   "execution_count": null,
   "metadata": {},
   "outputs": [],
   "source": []
  }
 ],
 "metadata": {
  "kernelspec": {
   "display_name": "Python 3",
   "language": "python",
   "name": "python3"
  },
  "language_info": {
   "codemirror_mode": {
    "name": "ipython",
    "version": 3
   },
   "file_extension": ".py",
   "mimetype": "text/x-python",
   "name": "python",
   "nbconvert_exporter": "python",
   "pygments_lexer": "ipython3",
   "version": "3.9.2"
  }
 },
 "nbformat": 4,
 "nbformat_minor": 2
}
