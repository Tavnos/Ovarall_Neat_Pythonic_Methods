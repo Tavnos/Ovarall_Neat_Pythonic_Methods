{
 "cells": [
  {
   "cell_type": "code",
   "execution_count": null,
   "metadata": {},
   "outputs": [],
   "source": [
    "# Run, Modify, Have fun simplify "
   ]
  },
  {
   "cell_type": "code",
   "execution_count": 20,
   "metadata": {
    "scrolled": true
   },
   "outputs": [
    {
     "name": "stderr",
     "output_type": "stream",
     "text": [
      "100%|████████████████████████████████████████████████████████████████████████| 99596/99596 [00:00<00:00, 859461.08it/s]\n"
     ]
    },
    {
     "data": {
      "text/plain": [
       "[2, 4, 7, 14, 28, 3557, 7114, 14228, 24899, 49798]"
      ]
     },
     "execution_count": 20,
     "metadata": {},
     "output_type": "execute_result"
    }
   ],
   "source": [
    "from tqdm import tqdm\n",
    "# find all factors (I made this myself along with find small primes) \n",
    "\n",
    "def find_factor_of(the_integer):\n",
    "    find_factor_list = []\n",
    "    for i in tqdm(range(the_integer)):\n",
    "        if (the_integer / (i+1)) == int(the_integer /(i+1)):\n",
    "            if (i+1 != 1) and (i+1 != the_integer):\n",
    "                find_factor_list += [i+1]\n",
    "    return find_factor_list\n",
    "find_factor_of(25996)"
   ]
  },
  {
   "cell_type": "code",
   "execution_count": 1,
   "metadata": {},
   "outputs": [
    {
     "data": {
      "text/plain": [
       "54831.0"
      ]
     },
     "execution_count": 1,
     "metadata": {},
     "output_type": "execute_result"
    }
   ],
   "source": [
    "164493/3"
   ]
  },
  {
   "cell_type": "code",
   "execution_count": 3,
   "metadata": {},
   "outputs": [
    {
     "data": {
      "text/plain": [
       "27"
      ]
     },
     "execution_count": 3,
     "metadata": {},
     "output_type": "execute_result"
    }
   ],
   "source": [
    "1+6+4+4+9+3"
   ]
  },
  {
   "cell_type": "code",
   "execution_count": 6,
   "metadata": {},
   "outputs": [
    {
     "name": "stdout",
     "output_type": "stream",
     "text": [
      "𐱉𐱈𐱇𐱆𐱅𐱄𐱃𐱂𐱁𐱀𐰿𐰾𐰽𐰼𐰻𐰺𐰹𐰸𐰷𐰶𐰵𐰴𐰳𐰲𐰱𐰰𐰯𐰮𐰭𐰬𐰫𐰪𐰩𐰨𐰧𐰦𐰥𐰤𐰣𐰢𐰡𐰠𐰟𐰞𐰝𐰜𐰛𐰚𐰙𐰘𐰗𐰖𐰕𐰔𐰓𐰒𐰑𐰐𐰏𐰎𐰍𐰌𐰋𐰊𐰉𐰈𐰇𐰆𐰅𐰄𐰃𐰂𐰁𐰀𐯿\n",
      "𐱈𐱇𐱆𐱅𐱄𐱃𐱂𐱁𐱀𐰿𐰾𐰽𐰼𐰻𐰺𐰹𐰸𐰷𐰶𐰵𐰴𐰳𐰲𐰱𐰰𐰯𐰮𐰭𐰬𐰫𐰪𐰩𐰨𐰧𐰦𐰥𐰤𐰣𐰢𐰡𐰠𐰟𐰞𐰝𐰜𐰛𐰚𐰙𐰘𐰗𐰖𐰕𐰔𐰓𐰒𐰑𐰐𐰏𐰎𐰍𐰌𐰋𐰊𐰉𐰈𐰇𐰆𐰅𐰄𐰃𐰂𐰁𐰀\n"
     ]
    }
   ],
   "source": [
    "# Get viking rune alphabet\n",
    "rd_ls = []\n",
    "for i in range(75):\n",
    "    rd_ls+=chr(68681-i)\n",
    "print(''.join(rd_ls))\n",
    "rd_ls = []\n",
    "for i in range(73):\n",
    "    rd_ls+=chr(68680-i)\n",
    "print(''.join(rd_ls))"
   ]
  },
  {
   "cell_type": "code",
   "execution_count": 7,
   "metadata": {},
   "outputs": [
    {
     "name": "stdout",
     "output_type": "stream",
     "text": [
      "99761272\n",
      "0x5f23c78\n",
      "-894169148\n",
      "-0x354bf03c\n"
     ]
    }
   ],
   "source": [
    "# Get memory id hash hex...\n",
    "rand_str = 'rand stuff'\n",
    "def id_and_hash(rand_var):\n",
    "    print(id(rand_var))\n",
    "    print(hex(id(rand_var)))\n",
    "    print(hash(rand_var))\n",
    "    print(hex(hash(rand_var)))\n",
    "id_and_hash(rand_str)"
   ]
  },
  {
   "cell_type": "code",
   "execution_count": 9,
   "metadata": {},
   "outputs": [
    {
     "ename": "AssertionError",
     "evalue": "nope",
     "output_type": "error",
     "traceback": [
      "\u001b[1;31m---------------------------------------------------------------------------\u001b[0m",
      "\u001b[1;31mAssertionError\u001b[0m                            Traceback (most recent call last)",
      "\u001b[1;32m<ipython-input-9-1bfb533275de>\u001b[0m in \u001b[0;36m<module>\u001b[1;34m\u001b[0m\n\u001b[0;32m      1\u001b[0m \u001b[0mt_h\u001b[0m \u001b[1;33m=\u001b[0m \u001b[0mint\u001b[0m\u001b[1;33m(\u001b[0m\u001b[1;34m'45'\u001b[0m\u001b[1;33m)\u001b[0m\u001b[1;33m\u001b[0m\u001b[1;33m\u001b[0m\u001b[0m\n\u001b[1;32m----> 2\u001b[1;33m \u001b[1;32massert\u001b[0m \u001b[0mtype\u001b[0m\u001b[1;33m(\u001b[0m\u001b[0mt_h\u001b[0m\u001b[1;33m)\u001b[0m \u001b[1;33m==\u001b[0m \u001b[0mstr\u001b[0m\u001b[1;33m,\u001b[0m \u001b[1;34m'nope'\u001b[0m\u001b[1;33m\u001b[0m\u001b[1;33m\u001b[0m\u001b[0m\n\u001b[0m",
      "\u001b[1;31mAssertionError\u001b[0m: nope"
     ]
    }
   ],
   "source": [
    "# Underutilized function ...\n",
    "t_h = int('45')\n",
    "assert type(t_h) == str, 'nope' # seems like a check, then if/else conditional though... faster ?"
   ]
  },
  {
   "cell_type": "code",
   "execution_count": 16,
   "metadata": {},
   "outputs": [
    {
     "data": {
      "text/plain": [
       "(-1, -3)"
      ]
     },
     "execution_count": 16,
     "metadata": {},
     "output_type": "execute_result"
    }
   ],
   "source": [
    "import random as rd\n",
    "# Actual random method as the famous \"Monte carlo\" rd walk\n",
    "\n",
    "def rd_walk(n): \n",
    "    x, y = 0, 0\n",
    "    for i in range(n):\n",
    "        (dx, dy) = rd.choice([(0,1),(0,-1),(1,0),(-1,0)])\n",
    "        x += dx\n",
    "        y += dy\n",
    "    return(x,y)\n",
    "rd_walk(10)"
   ]
  },
  {
   "cell_type": "code",
   "execution_count": 13,
   "metadata": {},
   "outputs": [
    {
     "data": {
      "text/plain": [
       "['Variable ',\n",
       " 'Cat sour dough microbes cat variant var ',\n",
       " 'Cattle 1 2 4 8 00 99 ',\n",
       " 'A ',\n",
       " 'B ',\n",
       " 'C ',\n",
       " 'D u w p jd ddd']"
      ]
     },
     "execution_count": 13,
     "metadata": {},
     "output_type": "execute_result"
    }
   ],
   "source": [
    "import re\n",
    "# This Regex finds sentences or places that starts with uppercase and separates them\n",
    "\n",
    "str_var = 'apple Variable Cat sour dough microbes cat variant var Cattle 1 2 4 8 00 99 A B C D u w p jd ddd'\n",
    "re.findall('[A-Z][^A-Z]*', str_var) "
   ]
  },
  {
   "cell_type": "code",
   "execution_count": 12,
   "metadata": {},
   "outputs": [
    {
     "data": {
      "text/plain": [
       "'078 111 119 032 100 111 110 039 116 032 115 116 114 101 115 115 032 097 110 100 032 116 097 107 101 032 121 111 117 114 032 116 105 109 101 010 083 111 109 101 116 105 109 101 115 032 119 111 114 100 115 032 099 097 110 032 116 114 105 099 107 032 121 111 117 114 032 109 105 110 100 010 070 111 114 032 105 110 032 065 083 067 073 073 032 099 111 100 101 032 121 111 117 039 108 108 032 102 105 110 100 010 084 104 101 032 115 111 108 117 116 105 111 110 032 116 111 032 116 104 101 115 101 032 114 104 121 109 101 115'"
      ]
     },
     "execution_count": 12,
     "metadata": {},
     "output_type": "execute_result"
    }
   ],
   "source": [
    "str_nr= \"\"\"Now don't stress and take your time\\nSometimes words can trick your mind\\nFor in ASCII code you'll find\\nThe solution to these rhymes\"\"\"\n",
    "def numerize_str(str_nr):\n",
    "    int_ls= []\n",
    "    for i in range(len(str_nr)):\n",
    "        s_v = str(ord(str_nr[i]))\n",
    "        if len(s_v) == 2:\n",
    "            s_v = '0' + s_v\n",
    "        int_ls += [s_v]\n",
    "    return ''.join(int_ls)\n",
    "def three_numerize_str(str_nr):\n",
    "    int_ls= []\n",
    "    for i in range(len(str_nr)):\n",
    "        s_v = str(ord(str_nr[i]))\n",
    "        if len(s_v) == 2:\n",
    "            s_v = '0' + s_v\n",
    "        int_ls += [s_v]\n",
    "    return ' '.join(int_ls)\n",
    "def characterize_str(str_abc):\n",
    "    r_l=[]\n",
    "    for i in [str_abc[i:i+3] for i in range(0, len(str_abc), 3)]:\n",
    "        r_l+=[chr(int(i))]\n",
    "    print(''.join(r_l))\n",
    "def characterize_three_str(str_abc):\n",
    "    nr_ls, int_ls = str_abc.split(), []\n",
    "    for i in nr_ls:\n",
    "        int_ls += [chr(int(i))]\n",
    "    print(''.join(int_ls))\n",
    "#characterize_str(numerize_str('Damn that went super fast\\nthis is the power of python'))\n",
    "#characterize_three_str(three_numerize_str(str_nr))\n",
    "three_numerize_str(str_nr)"
   ]
  },
  {
   "cell_type": "code",
   "execution_count": 17,
   "metadata": {},
   "outputs": [
    {
     "name": "stdout",
     "output_type": "stream",
     "text": [
      "7.4429\n"
     ]
    }
   ],
   "source": [
    "# Currency converter\n",
    "str_id = 'EUR, USD, JPY, BGN, CZK, DKK, GBP, HUF, PLN, RON, SEK, CHF, ISK, NOK, HRK, RUB, TRY, AUD, BRL, CAD, CNY, HKD, IDR, ILS, INR, KRW, MXN, MYR, NZD, PHP, SGD, THB, ZAR'\n",
    "set_val = [1, 1.2159, 126.44, 1.9558, 26.518, 7.4429, 0.90282, 358.57, 4.4769, 4.8725, 10.2578, 1.0822, 152.10, 10.6598, 7.5415, 90.0679, 9.4636, 1.6387, 6.2759, 1.5633, 7.9421, 9.4240, 17222.37, 3.9720, 89.6755, 1320.60, 24.1091, 4.9366, 1.7254, 58.430, 1.6206, 36.672, 18.4674]\n",
    "ls_id = str_id.split(', ')\n",
    "dict_conv = {}\n",
    "for i in range(32):\n",
    "    dict_conv[ls_id[i]] = set_val[i]\n",
    "str_input = 'EUR 1 DKK'\n",
    "ls_input = str_input.split()\n",
    "print(dict_conv[ls_input[2]]/(dict_conv[ls_input[0]] * float(ls_input[1])))"
   ]
  },
  {
   "cell_type": "code",
   "execution_count": 19,
   "metadata": {},
   "outputs": [
    {
     "name": "stdout",
     "output_type": "stream",
     "text": [
      "[11, 77, 66, 1.1666666666666667, 0.16666666666666674, 1]\n",
      "11\n"
     ]
    }
   ],
   "source": [
    "# Advanced modulus function (%)\n",
    "def module_and_int(numerator,denumerator):\n",
    "    fraction = float(numerator/denumerator)\n",
    "    remainder = (fraction - int(fraction))\n",
    "    moduleof = remainder*denumerator\n",
    "    moduleof = round(moduleof, 8)\n",
    "    div_result = int(numerator/denumerator)\n",
    "    return [int(moduleof), numerator, denumerator, fraction, remainder, div_result]\n",
    "print(module_and_int(77,66))\n",
    "print(77%66)"
   ]
  },
  {
   "cell_type": "code",
   "execution_count": 3,
   "metadata": {},
   "outputs": [],
   "source": [
    "import numpy as np\n",
    "# Discrete fourrier transform \n",
    "\n",
    "input_array = [1261.8608,-525.1195, -824.8077, 1211.6013, -183.602, -1058.7911,1064.8262,172.5425,-1208.4328,833.2273,514.9434,-1261.8114,535.2547,816.3221,-1214.6748,194.6432,1052.6549,-1070.7595,-161.4683,1205.1487,-841.568,-504.7173,1261.6407,-545.3387,-807.7586,1217.6312,-205.6674,-1046.4549,1076.6252,150.3861,-1201.7915,849.8574,494.4786,-1261.4384,555.4091,799.1753,-1220.5575,216.6871,1040.2101,-1082.4476,-139.2948,1198.3821,-858.1111,-484.1831,1261.0925,-565.4169,-790.4993,1223.3446,-227.6829,-1033.8459,1088.1456,128.1887,-1194.8373,866.2659,473.849,-1260.6477,575.3805,781.763,-1226.0361,238.6594,1027.4016,-1093.7595,-117.0736,1191.1979,-874.3541,-463.4785,1260.1041,-585.2985,-772.9648,1228.6313,-249.6176,-1020.876,1099.2864,105.9482,-1187.4653,882.373,453.0727,-1259.4618,595.1699,764.1057,-1231.1301,260.5555,1014.2713,-1104.728,-94.8125,1183.64,-890.3226,-442.6295,1258.7209,-604.9947,-755.187,1233.5329,-271.4751,-1007.586,1110.0821,83.6724,-1179.7218,898.2033,432.1521,-1257.8813]\n",
    "\n",
    "\n",
    "class d_f_T:\n",
    "    dft_dict = {}\n",
    "    dft_dict['frequency_var'] = []\n",
    "    dft_dict['amplitude_var'] = []\n",
    "    dft_dict['phase_var'] = []\n",
    "    dft_dict['coord_var'] = []\n",
    "    x_real = 0\n",
    "    y_imag = 0\n",
    "    def discrete_fourrier_transform(self, input_array):\n",
    "        self.range_var = len(input_array)\n",
    "        for k in range(self.range_var):  \n",
    "            for n in range(self.range_var):\n",
    "                angle_var = (((2*np.pi)*k*n)/self.range_var)\n",
    "                self.x_real += ((input_array[n])* np.cos(angle_var))\n",
    "                self.y_imag += (-(input_array[n])* np.sin(angle_var))\n",
    "            self.x_real = self.x_real / self.range_var\n",
    "            self.y_imag = self.y_imag / self.range_var\n",
    "            self.dft_dict['frequency_var'] += [k]\n",
    "            self.dft_dict['amplitude_var'] += [((self.x_real**2)+(self.y_imag**2))**(1/2)]\n",
    "            self.dft_dict['phase_var'] += [np.arctan2(self.y_imag, self.x_real)]\n",
    "            self.dft_dict['coord_var'] += [(self.x_real,self.y_imag)]\n",
    "        return (self.dft_dict)\n",
    "call_dft = d_f_T()\n",
    "dict_dft = call_dft.discrete_fourrier_transform(input_array)"
   ]
  },
  {
   "cell_type": "code",
   "execution_count": 17,
   "metadata": {},
   "outputs": [
    {
     "data": {
      "image/png": "[encoded data removed]",
      "text/plain": [
       "<Figure size 432x288 with 1 Axes>"
      ]
     },
     "metadata": {
      "needs_background": "light"
     },
     "output_type": "display_data"
    },
    {
     "data": {
      "image/png": "[encoded data removed]",
      "text/plain": [
       "<Figure size 432x288 with 1 Axes>"
      ]
     },
     "metadata": {
      "needs_background": "light"
     },
     "output_type": "display_data"
    }
   ],
   "source": [
    "import matplotlib.pyplot as plt\n",
    "\n",
    "\n",
    "amp_ls = dict_dft['amplitude_var']\n",
    "hz_ls = dict_dft['frequency_var']\n",
    "phase_ls = dict_dft['phase_var']\n",
    "\n",
    "plt.plot(hz_ls, amp_ls)\n",
    "plt.show()\n",
    "plt.plot(hz_ls, phase_ls)\n",
    "plt.show()"
   ]
  },
  {
   "cell_type": "code",
   "execution_count": 14,
   "metadata": {},
   "outputs": [
    {
     "data": {
      "image/png": "[encoded data removed]",
      "text/plain": [
       "<Figure size 432x288 with 1 Axes>"
      ]
     },
     "metadata": {
      "needs_background": "light"
     },
     "output_type": "display_data"
    }
   ],
   "source": [
    "import matplotlib.pyplot as plt"
   ]
  },
  {
   "cell_type": "code",
   "execution_count": 1,
   "metadata": {},
   "outputs": [],
   "source": [
    "juice_str = open('clitoris.txt', 'w')"
   ]
  },
  {
   "cell_type": "code",
   "execution_count": 2,
   "metadata": {},
   "outputs": [
    {
     "name": "stdout",
     "output_type": "stream",
     "text": [
      "Help on built-in function writelines:\n",
      "\n",
      "writelines(lines, /) method of _io.TextIOWrapper instance\n",
      "    Write a list of lines to stream.\n",
      "    \n",
      "    Line separators are not added, so it is usual for each of the\n",
      "    lines provided to have a line separator at the end.\n",
      "\n"
     ]
    }
   ],
   "source": [
    "help(juice_str.writelines)"
   ]
  },
  {
   "cell_type": "code",
   "execution_count": null,
   "metadata": {},
   "outputs": [],
   "source": [
    " #################\n",
    " # ! # ! # ! # ! # \n",
    "###################\n",
    "# Do not just run #\n",
    "###################\n",
    " # ! # ! # ! # ! # \n",
    " #################"
   ]
  },
  {
   "cell_type": "code",
   "execution_count": null,
   "metadata": {},
   "outputs": [],
   "source": [
    "import urllib\n",
    "# grab text from url \n",
    "\n",
    "www_url = 'https://drive.google.com/drive/folders/1L7N9J5ZUnCGNcTUue4-7xP_zo4PaANiv'\n",
    "www_page = urllib.request.urlopen(www_url)\n",
    "html_bytes = www_page.read()\n",
    "html_utf8 = html_bytes.decode('utf-8')"
   ]
  },
  {
   "cell_type": "code",
   "execution_count": null,
   "metadata": {},
   "outputs": [],
   "source": [
    "import pynput as pp\n",
    "import time \n",
    "# Keyboard listener and emulator\n",
    "\n",
    "class Keyboard_Listener:\n",
    "    control_keyboard = pp.keyboard.Controller()\n",
    "    control_mouse = pp.mouse.Controller()\n",
    "    key_press = ''\n",
    "    key_release = ''\n",
    "    def on_press(self, key):\n",
    "        try:\n",
    "            self.key_press = \"{}\".format(key.char)\n",
    "        except AttributeError:\n",
    "            pass\n",
    "    def on_release(self, key):\n",
    "        self.key_release = \"{}\".format(key)\n",
    "        if key == pp.keyboard.Key.esc:\n",
    "            return False\n",
    "    def keyboard_listen(self):\n",
    "        self.listener =  pp.keyboard.Listener(on_press=self.on_press, on_release=self.on_release)\n",
    "        self.listener.start()\n",
    "    def key_functions(self):\n",
    "        self.keyboard_listen()\n",
    "        while True and self.key_release != 'Key.esc':\n",
    "            if self.key_press == 'r':\n",
    "                for i in range(3):\n",
    "                    time.sleep(.25)\n",
    "                    self.control_keyboard.press(pp.keyboard.Key.space)\n",
    "                    time.sleep(.02)\n",
    "                    self.control_keyboard.release(pp.keyboard.Key.space)\n",
    "                    self.key_press = '' \n",
    "            if self.key_press == 'g':\n",
    "                for i in range(10):\n",
    "                    time.sleep(.25)\n",
    "                    self.control_keyboard.press(pp.keyboard.Key.space)\n",
    "                    time.sleep(.02)\n",
    "                    self.control_keyboard.release(pp.keyboard.Key.space)\n",
    "                    self.key_press = ''                                \n",
    "            if self.key_press == 't':\n",
    "                for i in range(3):\n",
    "                    time.sleep(.4)\n",
    "                    self.control_keyboard.press(pp.keyboard.Key.space)\n",
    "                    self.control_mouse.press(pp.mouse.Button.left)\n",
    "                    time.sleep(.1)\n",
    "                    self.control_keyboard.release(pp.keyboard.Key.space)\n",
    "                    self.control_mouse.release(pp.mouse.Button.left)\n",
    "                    self.key_press = ''"
   ]
  },
  {
   "cell_type": "code",
   "execution_count": null,
   "metadata": {},
   "outputs": [],
   "source": [
    "import discord\n",
    "# Discord bot method\n",
    "\n",
    "class Output_Method:\n",
    "    def get_rawr(self):\n",
    "        rawr_1 = '𒁂𐦠𑀕𐡔Ꝛ෴'\n",
    "        return '{}'.format(rawr_1)\n",
    "    \n",
    "client = discord.Client()\n",
    "output_method = Output_Method()\n",
    "chan_ls = []\n",
    "\n",
    "@client.event\n",
    "async def on_message(message):\n",
    "        if message.content.startswith('!rawr'):\n",
    "            channel = message.channel\n",
    "            msg = '{} \\n * Science Helper roars at {} *'.format(output_method.get_rawr(), message.author.mention)\n",
    "            if message.author.mention in call_local_data.ls_read:\n",
    "                pass\n",
    "            else:\n",
    "                call_local_data.add_user(message.author.mention)\n",
    "                msg = 'Hi {}! Nice to meet you.'.format(message.author.mention)+ '\\n' + msg  \n",
    "            await channel.send(msg)\n",
    "\n",
    "        elif message.content.startswith('!chan'):\n",
    "            channel = message.channel\n",
    "            for channel in guild.channels:\n",
    "                chan_ls += [channel]\n",
    "                msg = '{}'.format(''.join(chan_ls))\n",
    "            await channel.send(msg)\n",
    "            \n",
    "@client.event\n",
    "async def on_ready():\n",
    "    print('Funcky parmesan cheese')\n",
    "    print(client.user.name)\n",
    "    print(client.user.id)\n",
    "    print('-------------')\n",
    "\n",
    "client.run('')"
   ]
  },
  {
   "cell_type": "code",
   "execution_count": null,
   "metadata": {},
   "outputs": [],
   "source": [
    "# open and get string from pdf from directory\n",
    "import pdfminer.high_level as phl\n",
    "from tqdm import tqdm\n",
    "import os\n",
    "\n",
    "class Str_Pdf_Txt:\n",
    "    ctl_ls, ls_sorted = [], []\n",
    "    def get_file_ordered(self, directory): # \n",
    "        ls_hot = os.listdir('res')\n",
    "        for i in self.ls_hot:\n",
    "            file_var = open('res/{}'.format(i), 'r')\n",
    "            txt_var = file_var.buffer.raw.readall()\n",
    "            self.ls_sorted += [(len(str(txt_var)), i)]\n",
    "        self.ls_sorted.sort()\n",
    "    def get_str_name(self, ctl_pdf):\n",
    "        raw_txt = phl.extract_text(ctl_pdf)\n",
    "        l_txt = raw_txt.split()\n",
    "        for i in l_txt:\n",
    "            if 'CTL' in i and len(i) > 5:\n",
    "                if i not in self.ctl_ls:\n",
    "                    self.ctl_ls += [ctl_pdf, i, '\\n']\n",
    "                    print(ctl_pdf, i, 'added')\n",
    "    def __init__(self):\n",
    "        self.get_file_ordered()\n",
    "        for i in tqdm(range(len(self.ls_sorted)-336)):\n",
    "            self.get_str_name('res/{}'.format(self.ls_sorted[i][1]))\n",
    "        hot_var = open('msioctl.txt', 'w')\n",
    "        hot_var.write(' '.join(self.ctl_ls))\n",
    "        hot_var.close()\n",
    "        \n",
    "call_ctl = Get_Ioctl()"
   ]
  },
  {
   "cell_type": "code",
   "execution_count": null,
   "metadata": {},
   "outputs": [],
   "source": [
    "# rework generalize\n",
    "import pdfminer.high_level as phl\n",
    "from tqdm import tqdm\n",
    "import os\n",
    "\n",
    "class Str_Pdf_Txt:\n",
    "    ctl_ls, ls_sorted = [], []\n",
    "    def get_file_ordered(self, directory): # \n",
    "        ls_hot = os.listdir('res')\n",
    "        for i in self.ls_hot:\n",
    "            file_var = open('res/{}'.format(i), 'r')\n",
    "            txt_var = file_var.buffer.raw.readall()\n",
    "            self.ls_sorted += [(len(str(txt_var)), i)]\n",
    "        self.ls_sorted.sort()\n",
    "    def get_str_name(self, ctl_pdf):\n",
    "        raw_txt = phl.extract_text(ctl_pdf)\n",
    "        l_txt = raw_txt.split()\n",
    "        for i in l_txt:\n",
    "            if 'CTL' in i and len(i) > 5:\n",
    "                if i not in self.ctl_ls:\n",
    "                    self.ctl_ls += [ctl_pdf, i, '\\n']\n",
    "                    print(ctl_pdf, i, 'added')\n",
    "    def __init__(self):\n",
    "        self.get_file_ordered()\n",
    "        for i in tqdm(range(len(self.ls_sorted)-336)):\n",
    "            self.get_str_name('res/{}'.format(self.ls_sorted[i][1]))\n",
    "        hot_var = open('msioctl.txt', 'w')\n",
    "        hot_var.write(' '.join(self.ctl_ls))\n",
    "        hot_var.close()\n",
    "        \n",
    "call_ctl = Get_Ioctl()"
   ]
  },
  {
   "cell_type": "code",
   "execution_count": null,
   "metadata": {},
   "outputs": [],
   "source": [
    "import translate # WARNING ! DO NOT TRY THIS ON BROWSER\n",
    "# Translate from and to natural language\n",
    "\n",
    "s_f = open('input_source.txt', 'r', encoding='u7') \n",
    "t_r = s_f.buffer.raw.read()\n",
    "s_f.close()\n",
    "rsp_tx = bytes.decode(t_r, 'u8') \n",
    "r_l = translate.translator('zh-TW', 'en', rsp_tx)\n",
    "f_t = open('formated_text.txt', 'w') \n",
    "f_t.write(r_l[0][0][0])\n",
    "f_t.close()"
   ]
  }
 ],
 "metadata": {
  "kernelspec": {
   "display_name": "Python 3",
   "language": "python",
   "name": "python3"
  },
  "language_info": {
   "codemirror_mode": {
    "name": "ipython",
    "version": 3
   },
   "file_extension": ".py",
   "mimetype": "text/x-python",
   "name": "python",
   "nbconvert_exporter": "python",
   "pygments_lexer": "ipython3",
   "version": "3.9.2"
  }
 },
 "nbformat": 4,
 "nbformat_minor": 2
}
