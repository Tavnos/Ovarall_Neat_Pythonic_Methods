{
 "cells": [
  {
   "cell_type": "code",
   "execution_count": 6,
   "metadata": {},
   "outputs": [],
   "source": [
    "import tkinter as tk\n",
    "import numpy as np"
   ]
  },
  {
   "cell_type": "code",
   "execution_count": 54,
   "metadata": {},
   "outputs": [],
   "source": [
    "class Tk_Main(tk.Tk):\n",
    "    def __init__(self):\n",
    "        super().__init__()\n",
    "        self.title(\"Basic example title\")\n",
    "        tk.Label(self, text=\"Basic example text label packed\").pack()\n",
    "        self.str_var = tk.StringVar()\n",
    "        self.entry_var = tk.Entry()\n",
    "        self.entry_var['textvariable'] = self.str_var\n",
    "        self.entry_var.pack()\n",
    "        self.bind('<Key-Return>', self.print_var)\n",
    "        self.eval('tk::PlaceWindow %s center' % self.winfo_pathname(self.winfo_id()))\n",
    "        self.mainloop()\n",
    "    def print_var(self, event):\n",
    "        print(\"Entry: \",self.entry_var.get())\n",
    "tk_init = Tk_Main()"
   ]
  },
  {
   "cell_type": "code",
   "execution_count": 4,
   "metadata": {},
   "outputs": [
    {
     "name": "stdout",
     "output_type": "stream",
     "text": [
      "show metric\n",
      "hide metric\n",
      "show metric\n"
     ]
    }
   ],
   "source": [
    "class Tk_Main(tk.Tk):# Check options\n",
    "    def __init__(self):\n",
    "        super().__init__()\n",
    "        self.measureSystem = tk.StringVar()\n",
    "        self.eval('tk::PlaceWindow %s center' % self.winfo_pathname(self.winfo_id()))\n",
    "        tk.Label(self, text=\"Basic example text label grided\").grid()\n",
    "        check = tk.Checkbutton(self, \n",
    "            text='Metric',\n",
    "            variable=self.measureSystem,\n",
    "            onvalue='show metric', \n",
    "            offvalue='hide metric',\n",
    "            command=self.notice_change)\n",
    "        check.grid()\n",
    "        self.mainloop()\n",
    "    def notice_change(self):\n",
    "        print(self.measureSystem.get())\n",
    "tk_init = Tk_Main()"
   ]
  },
  {
   "cell_type": "code",
   "execution_count": 11,
   "metadata": {},
   "outputs": [],
   "source": [
    "class Tk_Main(tk.Tk): # Check options\n",
    "    def __init__(self):\n",
    "        super().__init__()\n",
    "        self.geometry(\"380x335\")\n",
    "        menubutton = tk.Menubutton(text=\"Cities\", relief='ridge')\n",
    "        menubutton.pack()\n",
    "        self.var = tk.StringVar()\n",
    "        menu = tk.Menu(menubutton, tearoff=0, relief='ridge')\n",
    "        menubutton['menu'] = menu\n",
    "        menu.add_command(label=\"Houston\", command=self.on_menu_item_clicked)\n",
    "        menu.add_command(label=\"Seattle\", command=self.on_menu_item_clicked)\n",
    "        menu.add_command(label=\"San Diego\", command=self.on_menu_item_clicked)\n",
    "        measureSystem = tk.StringVar()\n",
    "        self.text = tk.Text(self, wrap=\"word\", font=(\"Helvetica\", 18))\n",
    "        self.text.insert(float(), \"Select City\")\n",
    "        self.text.pack()\n",
    "    def on_menu_item_clicked(self):\n",
    "        self.text.insert(float(), \"City clicked\")\n",
    "        self.text.pack()\n",
    "tk_init = Tk_Main()\n",
    "tk_init.mainloop()"
   ]
  },
  {
   "cell_type": "code",
   "execution_count": 7,
   "metadata": {},
   "outputs": [],
   "source": [
    "class SphereVolume(tk.Tk):\n",
    "    def __init__(self):\n",
    "        super().__init__()\n",
    "        self.title(\"Spherical Radius into Volume.\")\n",
    "        self.volume = tk.StringVar()\n",
    "        self.radius = tk.StringVar()\n",
    "        self.radius_entry = tk.Entry(self, width=10, textvariable=self.radius)\n",
    "        self.radius_entry.grid(column=2, row=1)\n",
    "        volume_var = tk.Label(self, textvariable=self.volume)\n",
    "        volume_var.grid(column=2, row=2)\n",
    "        calc_btn = tk.Button(self, text=\"Calculate\", command=self.get_volume)\n",
    "        calc_btn.grid(column=3, row=3)\n",
    "        radius_label = tk.Label(self, text=\"Radius\")\n",
    "        radius_label.grid(column=3, row=1)\n",
    "        volume_label = tk.Label(self, text=\"Volume\")\n",
    "        volume_label.grid(column=3, row=2)\n",
    "        for child in self.winfo_children(): \n",
    "            child.grid_configure(padx=5, pady=5)\n",
    "        self.bind('<Return>', self.get_volume)\n",
    "        self.radius_entry.focus()\n",
    "        self.eval('tk::PlaceWindow %s center' % self.winfo_pathname(self.winfo_id()))\n",
    "    def get_volume(self, *args):\n",
    "        try:\n",
    "            value = float(self.radius.get())\n",
    "            self.volume.set((4/3)*np.pi*(value**3))\n",
    "        except ValueError:\n",
    "            pass\n",
    "tk_init = SphereVolume()\n",
    "tk_init.mainloop()"
   ]
  },
  {
   "cell_type": "code",
   "execution_count": null,
   "metadata": {},
   "outputs": [],
   "source": [
    "# In progress "
   ]
  },
  {
   "cell_type": "code",
   "execution_count": null,
   "metadata": {},
   "outputs": [],
   "source": [
    "from tkinter import Tk, Frame, Menu\n",
    "\n",
    "class Window(Frame):\n",
    "    def __init__(self, parent):\n",
    "        Frame.__init__(self, parent)\n",
    "        self.parent = parent\n",
    "        self.initUI()\n",
    "    def initUI(self):\n",
    "        self.parent.title(\"Submenu\")\n",
    "        menubar = Menu(self.parent)\n",
    "        self.parent.config(menu=menubar)\n",
    "        fileMenu = Menu(menubar)\n",
    "        submenu = Menu(fileMenu)\n",
    "        submenu.add_command(label=\"New\")\n",
    "        submenu.add_command(label=\"Open\")\n",
    "        fileMenu.add_cascade(label=\"Files\", menu=submenu)\n",
    "        fileMenu.add_separator()\n",
    "        fileMenu.add_command(label=\"Exit\", command=self.quit)\n",
    "        menubar.add_cascade(label=\"File\", menu=fileMenu)\n",
    "def main():\n",
    "    root = Tk()\n",
    "    root.geometry(\"250x150+300+300\")\n",
    "    app = Window(root)\n",
    "    root.mainloop()\n",
    "if __name__ == '__main__':\n",
    "    main()"
   ]
  },
  {
   "cell_type": "code",
   "execution_count": 12,
   "metadata": {},
   "outputs": [],
   "source": [
    "class Todo(tk.Tk):\n",
    "    def __init__(self, tasks=None):\n",
    "        super().__init__()\n",
    "        if not tasks:\n",
    "            self.tasks = []\n",
    "        else:\n",
    "            for n in self.tasks:\n",
    "                n.grid()\n",
    "        self.task_create = tk.Text(self, height=3, bg=\"white\", fg=\"black\")\n",
    "        self.task_create.pack()\n",
    "        self.task_create.focus_set()\n",
    "        self.bind(\"<Return>\", self.add_task)\n",
    "    def add_task(self, event=None):\n",
    "        task_text = self.task_create.get(1.0,tk.END).strip()\n",
    "        if len(task_text) > 0:\n",
    "            self.tasks.append(tk.Label(self, text=task_text, pady=10).pack())\n",
    "        self.task_create.delete(1.0, tk.END)\n",
    "todo = Todo()\n",
    "todo.mainloop()"
   ]
  },
  {
   "cell_type": "code",
   "execution_count": 20,
   "metadata": {},
   "outputs": [],
   "source": [
    "from tkinter import Tk, Frame, Text, Label\n",
    "class Example(Frame):\n",
    "    def __init__(self, parent):\n",
    "        Frame.__init__(self, parent)\n",
    "        self.text = Text(self, wrap=\"word\", font=(\"Helvetica\", 18))\n",
    "        self.text.insert(float(), \"Move your cursor around...\")\n",
    "        self.text.pack(side=\"top\", fill=\"both\", expand=True)\n",
    "        self.text.bind(\"<Any-Motion>\", self.on_mouse_move)\n",
    "        self.char = Label(self, text=\"Index:\", bg=\"#ddd\")\n",
    "        self.char.pack(side=\"bottom\", fill=\"x\")\n",
    "    def on_mouse_move(self, event):\n",
    "        index = \"Index: %s\" % self.text.index(\"@%s,%s\" % (event.x, event.y))\n",
    "        self.char[\"text\"] = index\n",
    "if __name__ == \"__main__\":\n",
    "    root = Tk()\n",
    "    root.title(\"Example on how to find the index in a Text widget.\")\n",
    "    Example(root).pack(fill=\"both\", expand=True)\n",
    "    root.mainloop()"
   ]
  },
  {
   "cell_type": "code",
   "execution_count": null,
   "metadata": {},
   "outputs": [],
   "source": []
  }
 ],
 "metadata": {
  "kernelspec": {
   "display_name": "Python 3",
   "language": "python",
   "name": "python3"
  },
  "language_info": {
   "codemirror_mode": {
    "name": "ipython",
    "version": 3
   },
   "file_extension": ".py",
   "mimetype": "text/x-python",
   "name": "python",
   "nbconvert_exporter": "python",
   "pygments_lexer": "ipython3",
   "version": "3.8.0"
  }
 },
 "nbformat": 4,
 "nbformat_minor": 2
}
